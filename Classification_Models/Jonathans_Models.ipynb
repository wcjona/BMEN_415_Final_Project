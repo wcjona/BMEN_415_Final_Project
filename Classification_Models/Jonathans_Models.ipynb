{
  "nbformat": 4,
  "nbformat_minor": 0,
  "metadata": {
    "colab": {
      "provenance": [],
      "authorship_tag": "ABX9TyPqyjZzOAxgRMsNxS/QVRvg",
      "include_colab_link": true
    },
    "kernelspec": {
      "name": "python3",
      "display_name": "Python 3"
    },
    "language_info": {
      "name": "python"
    }
  },
  "cells": [
    {
      "cell_type": "markdown",
      "metadata": {
        "id": "view-in-github",
        "colab_type": "text"
      },
      "source": [
        "<a href=\"https://colab.research.google.com/github/wcjona/BMEN_415_Final_Project/blob/main/Classification_Models/Jonathans_Models.ipynb\" target=\"_parent\"><img src=\"https://colab.research.google.com/assets/colab-badge.svg\" alt=\"Open In Colab\"/></a>"
      ]
    },
    {
      "cell_type": "code",
      "source": [
        "from google.colab import drive\n",
        "drive.mount(\"/content/drive\")"
      ],
      "metadata": {
        "colab": {
          "base_uri": "https://localhost:8080/"
        },
        "id": "1Mn0wqYKZQdT",
        "outputId": "c8ad29d7-1ebc-4380-8555-d7ab08c736d8"
      },
      "execution_count": null,
      "outputs": [
        {
          "output_type": "stream",
          "name": "stdout",
          "text": [
            "Drive already mounted at /content/drive; to attempt to forcibly remount, call drive.mount(\"/content/drive\", force_remount=True).\n"
          ]
        }
      ]
    },
    {
      "cell_type": "code",
      "execution_count": null,
      "metadata": {
        "id": "l4lDDwn9Q8bk"
      },
      "outputs": [],
      "source": [
        "import pandas as pd\n",
        "from sklearn.model_selection import train_test_split\n",
        "def preprocessing(standardize=False, normalize=False):\n",
        "  df = pd.read_csv(\"/content/drive/MyDrive/BMEN_415_Group10/ML_Models/Dataset/Maternal Health Risk Data Set.csv\")\n",
        "  # Cleaning\n",
        "  df = df.drop_duplicates()\n",
        "  df = df.dropna()\n",
        "  # Str to int\n",
        "  df = df.replace({\"low risk\": 0, \"mid risk\":1, \"high risk\":2})\n",
        "  y = df[\"RiskLevel\"]\n",
        "  x = df.loc[:,df.columns!=\"RiskLevel\"]\n",
        "  if standardize:\n",
        "    x=(x-x.mean())/x.std()\n",
        "  if normalize:\n",
        "    x=(x-x.min())/(x.max()-x.min())\n",
        "\n",
        "  return train_test_split(x,y, test_size=0.2, random_state=142)"
      ]
    },
    {
      "cell_type": "code",
      "source": [
        "def process(classifier, std_nrm = True):\n",
        "  results = {}\n",
        "  x_train, x_test, y_train, y_test = preprocessing()\n",
        "  classifier.fit(x_train, y_train)\n",
        "  results[\"None\"] = classifier.score(x_test, y_test)\n",
        "  if not std_nrm:\n",
        "    return results[\"None\"] \n",
        " \n",
        "  x_train, x_test, y_train, y_test = preprocessing(standardize=True)\n",
        "  classifier.fit(x_train, y_train)\n",
        "  results[\"Standardized\"] =   classifier.score(x_test, y_test)\n",
        "\n",
        "  x_train, x_test, y_train, y_test = preprocessing(normalize=True)\n",
        "  classifier.fit(x_train, y_train)\n",
        "  results[\"Normalized\"] =   classifier.score(x_test, y_test)\n",
        "  return results"
      ],
      "metadata": {
        "id": "cOaL4_ffglJV"
      },
      "execution_count": null,
      "outputs": []
    },
    {
      "cell_type": "markdown",
      "source": [
        "## Ridge Regression Classifier "
      ],
      "metadata": {
        "id": "F9BdLPNlhfEy"
      }
    },
    {
      "cell_type": "code",
      "source": [
        "from sklearn.linear_model import RidgeClassifier\n",
        "process(RidgeClassifier())"
      ],
      "metadata": {
        "colab": {
          "base_uri": "https://localhost:8080/"
        },
        "id": "p96N46yphd1n",
        "outputId": "b6253c77-4a11-47e7-f82b-495dd5337a17"
      },
      "execution_count": null,
      "outputs": [
        {
          "output_type": "execute_result",
          "data": {
            "text/plain": [
              "{'None': 0.6923076923076923,\n",
              " 'Standardized': 0.6923076923076923,\n",
              " 'Normalized': 0.6923076923076923}"
            ]
          },
          "metadata": {},
          "execution_count": 5
        }
      ]
    },
    {
      "cell_type": "markdown",
      "source": [
        "## Gaussian Process Classifier"
      ],
      "metadata": {
        "id": "Q1ek1MFCZwvB"
      }
    },
    {
      "cell_type": "code",
      "source": [
        "from sklearn.gaussian_process import GaussianProcessClassifier\n",
        "from sklearn.gaussian_process.kernels import RBF\n",
        "\n",
        "x_train, x_test, y_train, y_test = preprocessing(standardize=True)\n",
        "\n",
        "kernel = 1.0 * RBF(1.0)\n",
        "\n",
        "process(GaussianProcessClassifier(kernel=kernel, random_state=0))"
      ],
      "metadata": {
        "colab": {
          "base_uri": "https://localhost:8080/"
        },
        "id": "C_KZeMF3ZtmY",
        "outputId": "bc9bc810-710a-4017-d73b-84cff13402c4"
      },
      "execution_count": null,
      "outputs": [
        {
          "output_type": "execute_result",
          "data": {
            "text/plain": [
              "{'None': 0.7582417582417582,\n",
              " 'Standardized': 0.7362637362637363,\n",
              " 'Normalized': 0.7362637362637363}"
            ]
          },
          "metadata": {},
          "execution_count": 6
        }
      ]
    },
    {
      "cell_type": "markdown",
      "source": [
        "## Multilayer Perceptron"
      ],
      "metadata": {
        "id": "NSwNfllohwq9"
      }
    },
    {
      "cell_type": "code",
      "source": [
        "from sklearn.neural_network import MLPClassifier\n",
        "import warnings\n",
        "warnings.filterwarnings('ignore')\n",
        "process(MLPClassifier(random_state=0, max_iter=84))"
      ],
      "metadata": {
        "colab": {
          "base_uri": "https://localhost:8080/"
        },
        "id": "Pla7SzechwaB",
        "outputId": "662392af-a6b3-46d7-8521-8c69369db61d"
      },
      "execution_count": null,
      "outputs": [
        {
          "output_type": "execute_result",
          "data": {
            "text/plain": [
              "{'None': 0.7252747252747253,\n",
              " 'Standardized': 0.7472527472527473,\n",
              " 'Normalized': 0.7142857142857143}"
            ]
          },
          "metadata": {},
          "execution_count": 11
        }
      ]
    },
    {
      "cell_type": "code",
      "source": [
        "# Optimzation\n",
        "scores = []\n",
        "\n",
        "for i in range(1,300):\n",
        "  scores.append(process(MLPClassifier(random_state=0, max_iter=i), False))\n",
        "\n",
        "import matplotlib.pyplot as plt\n",
        "\n",
        "plt.plot(range(1,300), scores)\n",
        "plt.ylabel(\"Accuracy %\")\n",
        "plt.xlabel(\"Number of Components\")"
      ],
      "metadata": {
        "colab": {
          "base_uri": "https://localhost:8080/",
          "height": 466
        },
        "id": "Lgp-8cIMjYj5",
        "outputId": "410b1d8e-538a-43aa-c095-c6749df65b53"
      },
      "execution_count": null,
      "outputs": [
        {
          "output_type": "execute_result",
          "data": {
            "text/plain": [
              "Text(0.5, 0, 'Number of Components')"
            ]
          },
          "metadata": {},
          "execution_count": 8
        },
        {
          "output_type": "display_data",
          "data": {
            "text/plain": [
              "<Figure size 640x480 with 1 Axes>"
            ],
            "image/png": "[encoded data removed]"
          },
          "metadata": {}
        }
      ]
    },
    {
      "cell_type": "code",
      "source": [
        "print(f\"Number of Iterations: {scores.index(max(scores))+1} with Accuracy: {max(scores)}\")"
      ],
      "metadata": {
        "colab": {
          "base_uri": "https://localhost:8080/"
        },
        "id": "j3757JpTkC_3",
        "outputId": "aabbc006-b9a7-462f-f2af-e66f1717a59f"
      },
      "execution_count": null,
      "outputs": [
        {
          "output_type": "stream",
          "name": "stdout",
          "text": [
            "Number of Components: 84 with Accuracy: 0.7252747252747253\n"
          ]
        }
      ]
    }
  ]
}