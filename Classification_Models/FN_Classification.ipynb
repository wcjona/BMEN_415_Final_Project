{
  "nbformat": 4,
  "nbformat_minor": 0,
  "metadata": {
    "colab": {
      "provenance": [],
      "authorship_tag": "ABX9TyMUe2EzgK1sStF1F0peQmbh",
      "include_colab_link": true
    },
    "kernelspec": {
      "name": "python3",
      "display_name": "Python 3"
    },
    "language_info": {
      "name": "python"
    }
  },
  "cells": [
    {
      "cell_type": "markdown",
      "metadata": {
        "id": "view-in-github",
        "colab_type": "text"
      },
      "source": [
        "<a href=\"https://colab.research.google.com/github/wcjona/BMEN_415_Final_Project/blob/main/Classification_Models/FN_Classification.ipynb\" target=\"_parent\"><img src=\"https://colab.research.google.com/assets/colab-badge.svg\" alt=\"Open In Colab\"/></a>"
      ]
    },
    {
      "cell_type": "code",
      "source": [
        "import pandas as pd\n",
        "from sklearn.metrics import confusion_matrix\n",
        "from sklearn.model_selection import train_test_split\n",
        "df = pd.read_csv(\"/content/drive/MyDrive/BMEN_415_Group10/ML_Models/Dataset/Maternal Health Risk Data Set.csv\")\n",
        "df = df.drop_duplicates()\n",
        "df = df.dropna()\n",
        "df = df.replace({\"low risk\": 0, \"mid risk\": 1, \"high risk\": 2})\n",
        "y = df[\"RiskLevel\"]\n",
        "x = df.loc[:,df.columns!=\"RiskLevel\"]\n",
        "x_no = (x-x.min())/(x.max()-x.min())\n",
        "x_st = (x-x.mean())/x.std()\n",
        "x_train_no, x_test_no, y_train_no, y_test_no = train_test_split (x_no, y, test_size = 0.2, random_state = 142)\n",
        "x_train_st, x_test_st, y_train_st, y_test_st = train_test_split (x_st, y, test_size = 0.2, random_state = 142)"
      ],
      "metadata": {
        "id": "uZrqDXmB_D1Y"
      },
      "execution_count": null,
      "outputs": []
    },
    {
      "cell_type": "code",
      "source": [
        "def process(model):\n",
        "  m_no = model.fit(x_train_no,y_train_no)\n",
        "  a = m_no.score(x_test_no,y_test_no)\n",
        "  m_st = model.fit(x_train_st,y_train_st)\n",
        "  b = m_st.score(x_test_st,y_test_st)\n",
        "  if a > b:\n",
        "    print(round(a*100,4), 'using normalization')\n",
        "    mod = model.fit(x_train_no,y_train_no)\n",
        "    y_pred = mod.predict(x_test_no)\n",
        "    print(confusion_matrix(y_test_no,y_pred))\n",
        "  else:\n",
        "    print(round(b*100,4), 'using standardization')\n",
        "    mod = model.fit(x_train_st,y_train_st)\n",
        "    y_pred = mod.predict(x_test_st)\n",
        "    print(confusion_matrix(y_test_st,y_pred))"
      ],
      "metadata": {
        "id": "JUbdRuGIKFp4"
      },
      "execution_count": null,
      "outputs": []
    },
    {
      "cell_type": "code",
      "source": [
        "#Passive Aggressive Algorithm\n",
        "from sklearn.linear_model import PassiveAggressiveClassifier\n",
        "paa = PassiveAggressiveClassifier(random_state=42,class_weight='balanced')\n",
        "process(paa)"
      ],
      "metadata": {
        "colab": {
          "base_uri": "https://localhost:8080/"
        },
        "id": "eu9Ltk7mBTFB",
        "outputId": "3bd0dbdd-24be-4124-cc2f-8cd7d1d91996"
      },
      "execution_count": null,
      "outputs": [
        {
          "output_type": "stream",
          "name": "stdout",
          "text": [
            "74.7253 using standardization\n",
            "[[49  2  1]\n",
            " [13  4  2]\n",
            " [ 4  1 15]]\n"
          ]
        }
      ]
    },
    {
      "cell_type": "code",
      "source": [
        "#Stochastic Gradient Descent Algorithm\n",
        "from sklearn.linear_model import SGDClassifier\n",
        "sgd = SGDClassifier(loss='log_loss',random_state = 42,class_weight='balanced')\n",
        "process(sgd)"
      ],
      "metadata": {
        "colab": {
          "base_uri": "https://localhost:8080/"
        },
        "id": "DsjDe9axaeVZ",
        "outputId": "7aa0b237-5acf-4287-e914-187aa03782f2"
      },
      "execution_count": null,
      "outputs": [
        {
          "output_type": "stream",
          "name": "stdout",
          "text": [
            "73.6264 using normalization\n",
            "[[51  1  0]\n",
            " [12  4  3]\n",
            " [ 6  2 12]]\n"
          ]
        }
      ]
    },
    {
      "cell_type": "code",
      "source": [
        "#Sequential Minimal Optimization\n",
        "from sklearn.svm import LinearSVC\n",
        "smo = LinearSVC(class_weight='balanced',random_state=42,max_iter=2000)\n",
        "process(smo)"
      ],
      "metadata": {
        "id": "xt82tAn4I9tv",
        "colab": {
          "base_uri": "https://localhost:8080/"
        },
        "outputId": "e03190a5-0d77-47dd-cb33-29a7772bfdbc"
      },
      "execution_count": null,
      "outputs": [
        {
          "output_type": "stream",
          "name": "stdout",
          "text": [
            "75.8242 using standardization\n",
            "[[51  0  1]\n",
            " [11  4  4]\n",
            " [ 4  2 14]]\n"
          ]
        }
      ]
    }
  ]
}