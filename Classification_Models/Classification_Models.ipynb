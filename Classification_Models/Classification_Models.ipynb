{
  "nbformat": 4,
  "nbformat_minor": 0,
  "metadata": {
    "colab": {
      "provenance": [],
      "authorship_tag": "ABX9TyMpxOo3t52pOUh1OVV9qg9/",
      "include_colab_link": true
    },
    "kernelspec": {
      "name": "python3",
      "display_name": "Python 3"
    },
    "language_info": {
      "name": "python"
    }
  },
  "cells": [
    {
      "cell_type": "markdown",
      "metadata": {
        "id": "view-in-github",
        "colab_type": "text"
      },
      "source": [
        "<a href=\"https://colab.research.google.com/github/wcjona/BMEN_415_Final_Project/blob/main/Classification_Models/Classification_Models.ipynb\" target=\"_parent\"><img src=\"https://colab.research.google.com/assets/colab-badge.svg\" alt=\"Open In Colab\"/></a>"
      ]
    },
    {
      "cell_type": "code",
      "execution_count": null,
      "metadata": {
        "id": "NtYW6ytGYhA5"
      },
      "outputs": [],
      "source": [
        "# cleaning \n",
        "import pandas as pd\n",
        "from sklearn.model_selection import train_test_split\n",
        "from sklearn.metrics import confusion_matrix\n",
        "\n",
        "df = pd.read_csv(\"/content/Maternal Health Risk Data Set.csv\")\n",
        "df = df.drop_duplicates()\n",
        "df = df.dropna()\n",
        "df = df.replace({\"low risk\": 0, \"mid risk\":1, \"high risk\":2})\n",
        "y = df[\"RiskLevel\"]\n",
        "x = df.loc[:,df.columns!=\"RiskLevel\"]\n",
        "mean_std_x=(x-x.mean())/x.std()\n",
        "# Split training and test data\n",
        "x_train, x_test, y_train, y_test = train_test_split(x, y, test_size=0.2, random_state=142)"
      ]
    },
    {
      "cell_type": "markdown",
      "source": [
        "Nearest Centroid"
      ],
      "metadata": {
        "id": "p7JxpDCpeJhm"
      }
    },
    {
      "cell_type": "code",
      "source": [
        "from sklearn.neighbors import NearestCentroid\n",
        "from sklearn.metrics import accuracy_score\n",
        "\n",
        "model_NC = NearestCentroid()\n",
        "model_NC.fit(x_train,y_train)\n",
        "\n",
        "y_pred = model_NC.predict(x_test)\n",
        "accuracy = accuracy_score(y_test,y_pred)\n",
        "cm_nc = confusion_matrix(y_test,y_pred)\n",
        "\n",
        "# Evaluate the models accuracy\n",
        "print('Accuracy:',accuracy*100)\n",
        "print('Confusion matrix',cm_nc)"
      ],
      "metadata": {
        "id": "Q68NtdRSeUY0",
        "colab": {
          "base_uri": "https://localhost:8080/"
        },
        "outputId": "d7b72f1e-d781-41ed-b9fa-e2d626740d93"
      },
      "execution_count": null,
      "outputs": [
        {
          "output_type": "stream",
          "name": "stdout",
          "text": [
            "Accuracy: 46.15384615384615\n",
            "Confusion matrix [[26 10 16]\n",
            " [ 4  4 11]\n",
            " [ 7  1 12]]\n"
          ]
        }
      ]
    },
    {
      "cell_type": "markdown",
      "source": [
        "Logistic Regression"
      ],
      "metadata": {
        "id": "yu6SKmkveZfJ"
      }
    },
    {
      "cell_type": "code",
      "source": [
        "import numpy as np\n",
        "from sklearn.linear_model import LogisticRegression\n",
        "\n",
        "model_LR = LogisticRegression()\n",
        "\n",
        "# Create the logistic regression model with higher iterations for testing as there was a convergence warning\n",
        "model_LR = LogisticRegression(max_iter=1000)\n",
        "\n",
        "model_LR.fit(x_train, y_train)\n",
        "\n",
        "y_pred = model_LR.predict(x_test)\n",
        "\n",
        "# Evaluate the model's accuracy\n",
        "accuracy = accuracy_score(y_test,y_pred)\n",
        "cm_lr = confusion_matrix(y_test,y_pred)\n",
        "print('Accuracy', accuracy*100)\n",
        "print('Confusion matrix',cm_lr)"
      ],
      "metadata": {
        "id": "Naa12sqqeeM4",
        "colab": {
          "base_uri": "https://localhost:8080/"
        },
        "outputId": "6bf881ff-b788-4bae-b707-41763e8a3e32"
      },
      "execution_count": null,
      "outputs": [
        {
          "output_type": "stream",
          "name": "stdout",
          "text": [
            "Accuracy 75.82417582417582\n",
            "Confusion matrix [[51  1  0]\n",
            " [11  5  3]\n",
            " [ 4  3 13]]\n"
          ]
        }
      ]
    },
    {
      "cell_type": "markdown",
      "source": [
        "Quadratic Discriminant Analysis"
      ],
      "metadata": {
        "id": "kDOPruLoehZ3"
      }
    },
    {
      "cell_type": "code",
      "source": [
        "from sklearn.discriminant_analysis import QuadraticDiscriminantAnalysis\n",
        "\n",
        "model_qda = QuadraticDiscriminantAnalysis()\n",
        "\n",
        "model_qda.fit(x_train, y_train)\n",
        "\n",
        "y_pred = model_qda.predict(x_test)\n",
        "\n",
        "# Evaluate the models accuracy\n",
        "Accuracy = model_qda.score(x_test, y_test)\n",
        "cm_qda = confusion_matrix(y_test,y_pred)\n",
        "print('Accuracy:',Accuracy*100)\n",
        "print('Confusion matrix',cm_qda)"
      ],
      "metadata": {
        "id": "IsJI7fOaeqk2",
        "colab": {
          "base_uri": "https://localhost:8080/"
        },
        "outputId": "11b9e96a-707a-425a-add5-d1b87e84ace1"
      },
      "execution_count": null,
      "outputs": [
        {
          "output_type": "stream",
          "name": "stdout",
          "text": [
            "Accuracy: 75.82417582417582\n",
            "Confusion matrix [[50  1  1]\n",
            " [11  6  2]\n",
            " [ 4  3 13]]\n"
          ]
        }
      ]
    }
  ]
}