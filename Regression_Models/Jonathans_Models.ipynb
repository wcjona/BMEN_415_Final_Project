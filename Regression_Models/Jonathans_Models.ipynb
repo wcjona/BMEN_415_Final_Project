{
  "nbformat": 4,
  "nbformat_minor": 0,
  "metadata": {
    "colab": {
      "provenance": [],
      "include_colab_link": true
    },
    "kernelspec": {
      "name": "python3",
      "display_name": "Python 3"
    },
    "language_info": {
      "name": "python"
    }
  },
  "cells": [
    {
      "cell_type": "markdown",
      "metadata": {
        "id": "view-in-github",
        "colab_type": "text"
      },
      "source": [
        "<a href=\"https://colab.research.google.com/github/wcjona/BMEN_415_Final_Project/blob/main/Regression_Models/Jonathans_Models.ipynb\" target=\"_parent\"><img src=\"https://colab.research.google.com/assets/colab-badge.svg\" alt=\"Open In Colab\"/></a>"
      ]
    },
    {
      "cell_type": "code",
      "source": [
        "from google.colab import drive\n",
        "drive.mount(\"/content/drive\")"
      ],
      "metadata": {
        "colab": {
          "base_uri": "https://localhost:8080/"
        },
        "id": "qHmqH-lYp0J4",
        "outputId": "36fb8928-c826-401b-a840-0abf1684e2b5"
      },
      "execution_count": null,
      "outputs": [
        {
          "output_type": "stream",
          "name": "stdout",
          "text": [
            "Drive already mounted at /content/drive; to attempt to forcibly remount, call drive.mount(\"/content/drive\", force_remount=True).\n"
          ]
        }
      ]
    },
    {
      "cell_type": "code",
      "source": [
        "import pandas as pd\n",
        "from sklearn.model_selection import train_test_split\n",
        "from sklearn.metrics import mean_squared_error"
      ],
      "metadata": {
        "id": "BRPTe8trgqQY"
      },
      "execution_count": null,
      "outputs": []
    },
    {
      "cell_type": "code",
      "execution_count": null,
      "metadata": {
        "id": "uJHKEUMG-OLn"
      },
      "outputs": [],
      "source": [
        "def preprocessing(standardize=False, normalize=False):\n",
        "  df = pd.read_csv(\"/content/drive/MyDrive/BMEN_415_Group10/ML_Models/Dataset/Volumetric_features.csv\")\n",
        "  # Cleaning\n",
        "  df = df.drop(columns=[\"S.No\", \"dataset\", \"Left-WM-hypointensities\", \"Right-WM-hypointensities\", \"Left-non-WM-hypointensities\", \"Right-non-WM-hypointensities\"])\n",
        "  df = df.drop_duplicates()\n",
        "  df = df.dropna()\n",
        "  # Split\n",
        "  y = df[\"Age\"]\n",
        "  x = df.loc[:,df.columns!=\"Age\"]\n",
        "  if standardize:\n",
        "    x=(x-x.mean())/x.std()\n",
        "  if normalize:\n",
        "    x=(x-x.min())/(x.max()-x.min())\n",
        "\n",
        "  return train_test_split(x,y, test_size=0.2, random_state=142)"
      ]
    },
    {
      "cell_type": "code",
      "source": [
        "def process(regressor, std_nrm = True):\n",
        "  results = {}\n",
        "  x_train, x_test, y_train, y_test = preprocessing()\n",
        "  regressor.fit(x_train, y_train)\n",
        "  results[\"None\"] =   regressor.score(x_test, y_test)\n",
        "  if not std_nrm:\n",
        "    return results[\"None\"] \n",
        "\n",
        "  x_train, x_test, y_train, y_test = preprocessing(standardize=True)\n",
        "  regressor.fit(x_train, y_train)\n",
        "  results[\"Standardized\"] =   regressor.score(x_test, y_test)\n",
        "  \n",
        "  x_train, x_test, y_train, y_test = preprocessing(normalize=True)\n",
        "  regressor.fit(x_train, y_train)\n",
        "  results[\"Normalized\"] =   regressor.score(x_test, y_test)\n",
        "  y_pred = regressor.predict(x_test)\n",
        "  print(f\"MSE: {mean_squared_error(y_test, y_pred)}\")\n",
        "  return results"
      ],
      "metadata": {
        "id": "ZrBDZebVgm1n"
      },
      "execution_count": null,
      "outputs": []
    },
    {
      "cell_type": "markdown",
      "source": [
        "## Partial Least Squares Regression"
      ],
      "metadata": {
        "id": "GAQRULWGhYHn"
      }
    },
    {
      "cell_type": "code",
      "source": [
        "from sklearn.cross_decomposition import PLSRegression\n",
        "x_train, x_test, y_train, y_test = preprocessing()\n",
        "process(PLSRegression(n_components=100))"
      ],
      "metadata": {
        "colab": {
          "base_uri": "https://localhost:8080/"
        },
        "id": "MKo3kXKhhb9F",
        "outputId": "197950da-fc30-4391-e286-d1899e9b2b2b"
      },
      "execution_count": null,
      "outputs": [
        {
          "output_type": "stream",
          "name": "stdout",
          "text": [
            "MSE: 60.0348308175448\n"
          ]
        },
        {
          "output_type": "execute_result",
          "data": {
            "text/plain": [
              "{'None': 0.8487968124344293,\n",
              " 'Standardized': 0.8487968124344267,\n",
              " 'Normalized': 0.8487968124344283}"
            ]
          },
          "metadata": {},
          "execution_count": 12
        }
      ]
    },
    {
      "cell_type": "markdown",
      "source": [
        "# Optimization:"
      ],
      "metadata": {
        "id": "u6hxpmGwlI_1"
      }
    },
    {
      "cell_type": "code",
      "source": [
        "# Our dataset has 128 features\n",
        "# n_components is recommended ot be a range from 1 - # of features\n",
        "scores = []\n",
        "for i in range(1,128):\n",
        "  scores.append(process(PLSRegression(n_components=i), False))\n",
        "\n",
        "import matplotlib.pyplot as plt\n",
        "\n",
        "plt.plot(range(1,128), scores)\n",
        "plt.ylabel(\"Accuracy %\")\n",
        "plt.xlabel(\"Number of Components\")"
      ],
      "metadata": {
        "id": "FQLs5vX1kc6c",
        "colab": {
          "base_uri": "https://localhost:8080/",
          "height": 466
        },
        "outputId": "15814875-9cfc-485d-e870-f1a41f9b6ff7"
      },
      "execution_count": null,
      "outputs": [
        {
          "output_type": "execute_result",
          "data": {
            "text/plain": [
              "Text(0.5, 0, 'Number of Components')"
            ]
          },
          "metadata": {},
          "execution_count": 13
        },
        {
          "output_type": "display_data",
          "data": {
            "text/plain": [
              "<Figure size 640x480 with 1 Axes>"
            ],
            "image/png": "[encoded data removed]"
          },
          "metadata": {}
        }
      ]
    },
    {
      "cell_type": "code",
      "source": [
        "# Number of Components\n",
        "print(f\"Number of Components: {scores.index(max(scores))+1} with Accuracy: {max(scores)}\")"
      ],
      "metadata": {
        "id": "Zp_tw5YumfgI",
        "colab": {
          "base_uri": "https://localhost:8080/"
        },
        "outputId": "84f1eb78-6a80-47d7-eafe-36b6eb42fe6f"
      },
      "execution_count": null,
      "outputs": [
        {
          "output_type": "stream",
          "name": "stdout",
          "text": [
            "Number of Components: 89 with Accuracy: 0.8495592439955857\n"
          ]
        }
      ]
    },
    {
      "cell_type": "markdown",
      "source": [
        "## Support Vector Machines for Regession\n",
        "\n",
        "\n",
        "\n",
        "\n",
        "\n",
        "\n",
        "\n",
        "\n",
        "\n"
      ],
      "metadata": {
        "id": "Rnnnq2R_Rv8E"
      }
    },
    {
      "cell_type": "code",
      "source": [
        "from sklearn import svm\n",
        "import warnings\n",
        "warnings.filterwarnings('ignore')\n",
        "\n",
        "\n",
        "print(f\"Regular SVM {process(svm.SVR())}\")\n",
        "print(f\"Linear SVM {process(svm.LinearSVR())}\")\n",
        "print(f\"Nu SVM {process(svm.NuSVR())}\")\n"
      ],
      "metadata": {
        "colab": {
          "base_uri": "https://localhost:8080/"
        },
        "id": "vDgqJuAHR2ZH",
        "outputId": "81bb9aaa-4085-45aa-a4ed-9b6966652d87"
      },
      "execution_count": null,
      "outputs": [
        {
          "output_type": "stream",
          "name": "stdout",
          "text": [
            "MSE: 66.85530987657228\n",
            "Regular SVM {'None': 0.3675481267209365, 'Standardized': 0.835639209170744, 'Normalized': 0.8316188149218944}\n",
            "MSE: 71.37666206945829\n",
            "Linear SVM {'None': -0.1727594806916255, 'Standardized': 0.8487711030810343, 'Normalized': 0.820231377756482}\n",
            "MSE: 69.0261142528475\n",
            "Nu SVM {'None': 0.3072162139211644, 'Standardized': 0.8261107933271339, 'Normalized': 0.8261514464492212}\n"
          ]
        }
      ]
    },
    {
      "cell_type": "markdown",
      "source": [
        "## Elastic Net Regression\n"
      ],
      "metadata": {
        "id": "lgb8V65wY5vn"
      }
    },
    {
      "cell_type": "code",
      "source": [
        "from sklearn.linear_model import ElasticNet\n",
        "\n",
        "regr = ElasticNet(random_state=0)\n",
        "process(regr)"
      ],
      "metadata": {
        "id": "TyMyJ4xaY5MW",
        "colab": {
          "base_uri": "https://localhost:8080/"
        },
        "outputId": "92dfdddc-4917-4135-9f87-38eb7a7ef006"
      },
      "execution_count": null,
      "outputs": [
        {
          "output_type": "stream",
          "name": "stdout",
          "text": [
            "MSE: 239.21033660005568\n"
          ]
        },
        {
          "output_type": "execute_result",
          "data": {
            "text/plain": [
              "{'None': 0.8205761892220329,\n",
              " 'Standardized': 0.7983741505230836,\n",
              " 'Normalized': 0.39752698725034996}"
            ]
          },
          "metadata": {},
          "execution_count": 17
        }
      ]
    }
  ]
}