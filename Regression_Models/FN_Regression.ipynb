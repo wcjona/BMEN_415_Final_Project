{
  "nbformat": 4,
  "nbformat_minor": 0,
  "metadata": {
    "colab": {
      "provenance": [],
      "authorship_tag": "ABX9TyOy1eTcVMuhOF8dT1a1e3He",
      "include_colab_link": true
    },
    "kernelspec": {
      "name": "python3",
      "display_name": "Python 3"
    },
    "language_info": {
      "name": "python"
    }
  },
  "cells": [
    {
      "cell_type": "markdown",
      "metadata": {
        "id": "view-in-github",
        "colab_type": "text"
      },
      "source": [
        "<a href=\"https://colab.research.google.com/github/wcjona/BMEN_415_Final_Project/blob/main/Regression_Models/FN_Regression.ipynb\" target=\"_parent\"><img src=\"https://colab.research.google.com/assets/colab-badge.svg\" alt=\"Open In Colab\"/></a>"
      ]
    },
    {
      "cell_type": "code",
      "execution_count": null,
      "metadata": {
        "id": "sBpMpzzNaNin",
        "colab": {
          "base_uri": "https://localhost:8080/"
        },
        "outputId": "385beb62-0f40-40b8-83d8-91364b0ebd7a"
      },
      "outputs": [
        {
          "output_type": "stream",
          "name": "stdout",
          "text": [
            "Mounted at /content/drive\n"
          ]
        }
      ],
      "source": [
        "from google.colab import drive\n",
        "drive.mount(\"/content/drive\")"
      ]
    },
    {
      "cell_type": "code",
      "source": [
        "import pandas as pd\n",
        "from sklearn.metrics import mean_squared_error\n",
        "from sklearn.model_selection import train_test_split\n",
        "df = pd.read_csv(\"/content/drive/MyDrive/BMEN_415_Group10/ML_Models/Dataset/Volumetric_features.csv\")\n",
        "df = df.drop(columns=[\"S.No\", \"dataset\", \"Left-WM-hypointensities\", \"Right-WM-hypointensities\", \"Left-non-WM-hypointensities\", \"Right-non-WM-hypointensities\"])\n",
        "df = df.drop_duplicates()\n",
        "df = df.dropna()\n",
        "y = df[\"Age\"]\n",
        "x = df.loc[:,df.columns!=\"Age\"]\n",
        "x_no = (x-x.min())/(x.max()-x.min())\n",
        "x_st = (x-x.mean())/x.std()\n",
        "x_train_no, x_test_no, y_train_no, y_test_no = train_test_split (x_no, y, test_size = 0.2, random_state = 142)\n",
        "x_train_st, x_test_st, y_train_st, y_test_st = train_test_split (x_st, y, test_size = 0.2, random_state = 142)"
      ],
      "metadata": {
        "id": "RSaR0YwhgvLH"
      },
      "execution_count": null,
      "outputs": []
    },
    {
      "cell_type": "code",
      "source": [
        "def process(model):\n",
        "  m_no = model.fit(x_train_no,y_train_no)\n",
        "  a = m_no.score(x_test_no,y_test_no)\n",
        "  m_st = model.fit(x_train_st,y_train_st)\n",
        "  b = m_st.score(x_test_st,y_test_st)\n",
        "  if a > b:\n",
        "    print(round(a,4), 'using normalization')\n",
        "    mod = model.fit(x_train_no,y_train_no)\n",
        "    y_pred = mod.predict(x_test_no)\n",
        "    print(round(mean_squared_error(y_test_no,y_pred),4))\n",
        "  else:\n",
        "    print(round(b,4), 'using standardization')\n",
        "    mod = model.fit(x_train_st,y_train_st)\n",
        "    y_pred = mod.predict(x_test_st)\n",
        "    print(round(mean_squared_error(y_test_st,y_pred),4))"
      ],
      "metadata": {
        "id": "XpVrire4jBGU"
      },
      "execution_count": null,
      "outputs": []
    },
    {
      "cell_type": "code",
      "source": [
        "#SGD\n",
        "from sklearn.linear_model import SGDRegressor\n",
        "sgd = SGDRegressor(random_state=42)\n",
        "process(sgd)"
      ],
      "metadata": {
        "colab": {
          "base_uri": "https://localhost:8080/"
        },
        "id": "CJFdSohajyIy",
        "outputId": "7debd451-2439-4601-8376-f083437da683"
      },
      "execution_count": null,
      "outputs": [
        {
          "output_type": "stream",
          "name": "stdout",
          "text": [
            "0.8459 using standardization\n",
            "61.1764\n"
          ]
        }
      ]
    },
    {
      "cell_type": "code",
      "source": [
        "#Boosted\n",
        "from sklearn.ensemble import GradientBoostingRegressor\n",
        "gbr = GradientBoostingRegressor(n_estimators=200,max_depth=5,random_state=42)\n",
        "process(gbr)"
      ],
      "metadata": {
        "colab": {
          "base_uri": "https://localhost:8080/"
        },
        "id": "ozJm-vHIeQ-r",
        "outputId": "dbb7c77c-d4b1-4f10-a645-43a9c75a9521"
      },
      "execution_count": null,
      "outputs": [
        {
          "output_type": "stream",
          "name": "stdout",
          "text": [
            "0.8868 using standardization\n",
            "44.9408\n"
          ]
        }
      ]
    },
    {
      "cell_type": "code",
      "source": [
        "gbr_vr = GradientBoostingRegressor(n_estimators=110,max_depth=5,random_state=42)\n",
        "process(gbr_vr)"
      ],
      "metadata": {
        "colab": {
          "base_uri": "https://localhost:8080/"
        },
        "id": "cep70HahQOcO",
        "outputId": "233336df-2235-4667-8163-2377e259ffa7"
      },
      "execution_count": null,
      "outputs": [
        {
          "output_type": "stream",
          "name": "stdout",
          "text": [
            "0.884 using standardization\n",
            "46.0585\n"
          ]
        }
      ]
    },
    {
      "cell_type": "code",
      "source": [
        "#Voting Regressor will use 2 regressors w highest R2\n",
        "#Boosted, Random Forest"
      ],
      "metadata": {
        "id": "tFhY26srd-l4"
      },
      "execution_count": null,
      "outputs": []
    },
    {
      "cell_type": "code",
      "source": [
        "#Random Forest\n",
        "from sklearn.ensemble import RandomForestRegressor\n",
        "rfr = RandomForestRegressor(random_state=42)\n",
        "process(rfr)"
      ],
      "metadata": {
        "colab": {
          "base_uri": "https://localhost:8080/"
        },
        "id": "AFG4_SF_ewUG",
        "outputId": "0c4b0466-a8d3-4cfb-b0ef-0c249f4edd08"
      },
      "execution_count": null,
      "outputs": [
        {
          "output_type": "stream",
          "name": "stdout",
          "text": [
            "0.8695 using standardization\n",
            "51.8245\n"
          ]
        }
      ]
    },
    {
      "cell_type": "code",
      "source": [
        "#VR with Boosted and Random Forest\n",
        "from sklearn.ensemble import VotingRegressor\n",
        "vr = VotingRegressor([(\"gbr_vr\",gbr_vr),(\"rfr\",rfr)])\n",
        "process(vr)"
      ],
      "metadata": {
        "colab": {
          "base_uri": "https://localhost:8080/"
        },
        "id": "AKi1zsC0-rF9",
        "outputId": "1ad59524-cd8a-4e6b-f7db-d2e1286f0cb1"
      },
      "execution_count": null,
      "outputs": [
        {
          "output_type": "stream",
          "name": "stdout",
          "text": [
            "0.8821 using standardization\n",
            "46.8046\n"
          ]
        }
      ]
    }
  ]
}