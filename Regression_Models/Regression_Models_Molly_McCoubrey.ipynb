{
  "nbformat": 4,
  "nbformat_minor": 0,
  "metadata": {
    "colab": {
      "provenance": [],
      "authorship_tag": "ABX9TyM4RE7XncTKhR/URy1FLmA6",
      "include_colab_link": true
    },
    "kernelspec": {
      "name": "python3",
      "display_name": "Python 3"
    },
    "language_info": {
      "name": "python"
    }
  },
  "cells": [
    {
      "cell_type": "markdown",
      "metadata": {
        "id": "view-in-github",
        "colab_type": "text"
      },
      "source": [
        "<a href=\"https://colab.research.google.com/github/wcjona/BMEN_415_Final_Project/blob/main/Regression_Models/Regression_Models.ipynb\" target=\"_parent\"><img src=\"https://colab.research.google.com/assets/colab-badge.svg\" alt=\"Open In Colab\"/></a>"
      ]
    },
    {
      "cell_type": "code",
      "execution_count": null,
      "metadata": {
        "id": "Reh1489lmMO7"
      },
      "outputs": [],
      "source": [
        "import pandas as pd\n",
        "import numpy as np\n",
        "from sklearn.metrics import mean_squared_error\n",
        "df = pd.read_csv(\"/content/Volumetric_features.csv\")\n",
        "import pandas as pd\n",
        "from sklearn.model_selection import train_test_split\n",
        "df = df.drop(columns=[\"S.No\", \"dataset\", \"Left-WM-hypointensities\", \"Right-WM-hypointensities\", \"Left-non-WM-hypointensities\", \"Right-non-WM-hypointensities\"])\n",
        "df = df.drop_duplicates()\n",
        "df = df.dropna()\n",
        "y = df[\"Age\"]\n",
        "x = df.loc[:,df.columns!=\"Age\"]\n",
        "x=(x-x.mean())/x.std()\n",
        "# Split training and test data\n",
        "x_train, x_test, y_train, y_test = train_test_split(x,y, test_size=0.2, random_state=142)\n"
      ]
    },
    {
      "cell_type": "markdown",
      "source": [
        "Lasso Regression"
      ],
      "metadata": {
        "id": "SR6mPtxcoo00"
      }
    },
    {
      "cell_type": "code",
      "source": [
        "# start of lasso regression model\n",
        "\n",
        "from sklearn.linear_model import Lasso\n",
        "from sklearn.impute import SimpleImputer\n",
        "\n",
        "#fix missing values\n",
        "imputer = SimpleImputer(strategy='mean')\n",
        "x_train = imputer.fit_transform(x_train)\n",
        "x_test = imputer.transform(x_test)\n",
        "\n",
        "# Create the Lasso Regression model\n",
        "model_lr = Lasso(alpha=1.0)\n",
        "\n",
        "# Train the model\n",
        "model_lr.fit(x_train, y_train)\n",
        "\n",
        "# Make predictions on the test data\n",
        "y_pred = model_lr.predict(x_test)\n",
        "\n",
        "# Evaluate the model's performance using mean squared error\n",
        "\n",
        "from sklearn.metrics import r2_score\n",
        "#result ranges from 0-1, 1 being the best model performance\n",
        "r2 = r2_score(y_test, y_pred)\n",
        "print(\"MSE: \", mean_squared_error(y_test, y_pred))\n",
        "print(\"R-squared:\", r2)"
      ],
      "metadata": {
        "id": "g2LnA66rouwA",
        "colab": {
          "base_uri": "https://localhost:8080/"
        },
        "outputId": "ddb0fac5-c12b-4126-cea3-791a20d50b6c"
      },
      "execution_count": null,
      "outputs": [
        {
          "output_type": "stream",
          "name": "stdout",
          "text": [
            "MSE:  80.60096290478675\n",
            "R-squared: 0.7969991362331523\n"
          ]
        }
      ]
    },
    {
      "cell_type": "markdown",
      "source": [
        "Bayesian Ridge Regressor"
      ],
      "metadata": {
        "id": "BCgN1150pur7"
      }
    },
    {
      "cell_type": "code",
      "source": [
        "# Start of code for Bayesian Ridge Regressor (regression)\n",
        "\n",
        "from sklearn.linear_model import BayesianRidge\n",
        "from sklearn.impute import SimpleImputer\n",
        "\n",
        "#fix missing values\n",
        "imputer = SimpleImputer(strategy='mean')\n",
        "x_train = imputer.fit_transform(x_train)\n",
        "x_test = imputer.transform(x_test)\n",
        "\n",
        "# Create the Bayesian Ridge Regressor model\n",
        "model_BR = BayesianRidge()\n",
        "\n",
        "# Train the model\n",
        "model_BR.fit(x_train, y_train)\n",
        "\n",
        "# Make predictions on the test data\n",
        "y_pred = model_BR.predict(x_test)\n",
        "\n",
        "# Evaluate the model's performance using mean squared error\n",
        "\n",
        "from sklearn.metrics import r2_score\n",
        "#result ranges from 0-1, 1 being the best model performance\n",
        "r2 = r2_score(y_test, y_pred)\n",
        "print(\"MSE: \", mean_squared_error(y_test, y_pred))\n",
        "print(\"R-squared:\", r2)"
      ],
      "metadata": {
        "id": "Gmyl7KrEp2xY",
        "colab": {
          "base_uri": "https://localhost:8080/"
        },
        "outputId": "cb1bc82a-d9e4-474a-c80c-549064de2dca"
      },
      "execution_count": null,
      "outputs": [
        {
          "output_type": "stream",
          "name": "stdout",
          "text": [
            "MSE:  60.280426633264526\n",
            "R-squared: 0.84817825701112\n"
          ]
        }
      ]
    },
    {
      "cell_type": "markdown",
      "source": [
        "Random Forest Regression"
      ],
      "metadata": {
        "id": "BDz_mqMHqb4q"
      }
    },
    {
      "cell_type": "code",
      "source": [
        "#start of random forrest regression code\n",
        "\n",
        "from sklearn.ensemble import RandomForestRegressor\n",
        "from sklearn.impute import SimpleImputer\n",
        "\n",
        "#fix missing values\n",
        "imputer = SimpleImputer(strategy='mean')\n",
        "x_train = imputer.fit_transform(x_train)\n",
        "x_test = imputer.transform(x_test)\n",
        "\n",
        "model_RFR = RandomForestRegressor(n_estimators=100, max_depth=10, random_state=42)\n",
        "\n",
        "# Fit the model to the training data\n",
        "model_RFR.fit(x_train, y_train)\n",
        "\n",
        "# Generate predictions on test data\n",
        "y_pred = model_RFR.predict(x_test)\n",
        "\n",
        "# Evaluate model performance using mean squared error\n",
        "\n",
        "from sklearn.metrics import r2_score\n",
        "#result ranges from 0-1, 1 being the best model performance\n",
        "r2 = r2_score(y_test, y_pred)\n",
        "print(\"MSE: \", mean_squared_error(y_test, y_pred))\n",
        "print(\"R-squared:\", r2)"
      ],
      "metadata": {
        "id": "4V1dCy3NqfOw",
        "colab": {
          "base_uri": "https://localhost:8080/"
        },
        "outputId": "4bdf7a10-4f76-41aa-92df-c44db2ed4ab4"
      },
      "execution_count": null,
      "outputs": [
        {
          "output_type": "stream",
          "name": "stdout",
          "text": [
            "MSE:  52.80708822144223\n",
            "R-squared: 0.867000540246297\n"
          ]
        }
      ]
    }
  ]
}
