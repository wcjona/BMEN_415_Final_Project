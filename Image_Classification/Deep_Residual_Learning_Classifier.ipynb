{
  "cells": [
    {
      "cell_type": "markdown",
      "metadata": {
        "id": "view-in-github",
        "colab_type": "text"
      },
      "source": [
        "<a href=\"https://colab.research.google.com/github/wcjona/BMEN_415_Final_Project/blob/main/Image_Classification/Deep_Residual_Learnign_Classifier.ipynb\" target=\"_parent\"><img src=\"https://colab.research.google.com/assets/colab-badge.svg\" alt=\"Open In Colab\"/></a>"
      ]
    },
    {
      "cell_type": "code",
      "execution_count": null,
      "metadata": {
        "id": "U-bEWYlih0Uw"
      },
      "outputs": [],
      "source": [
        "!pip3 install deeplake;"
      ]
    },
    {
      "cell_type": "code",
      "execution_count": null,
      "metadata": {
        "id": "GfNiFkmKlq7J"
      },
      "outputs": [],
      "source": [
        "import deeplake\n",
        "from PIL import Image\n",
        "import numpy as np\n",
        "import os, time\n",
        "import torch\n",
        "from torchvision import transforms, models"
      ]
    },
    {
      "cell_type": "code",
      "execution_count": null,
      "metadata": {
        "colab": {
          "base_uri": "https://localhost:8080/"
        },
        "id": "YV6E4rCHU4-9",
        "outputId": "4d5baaba-1e02-4256-e11f-9c4acf23cb3a"
      },
      "outputs": [
        {
          "name": "stdout",
          "output_type": "stream",
          "text": [
            "This dataset can be visualized in Jupyter Notebook by ds.visualize() or at https://app.activeloop.ai/activeloop/chest-xray-train\n",
            "\n",
            "hub://activeloop/chest-xray-train loaded successfully.\n",
            "\n",
            "This dataset can be visualized in Jupyter Notebook by ds.visualize() or at https://app.activeloop.ai/activeloop/chest-xray-test\n",
            "\n",
            "hub://activeloop/chest-xray-test loaded successfully.\n",
            "\n"
          ]
        }
      ],
      "source": [
        "ds_train = deeplake.load('hub://activeloop/chest-xray-train')\n",
        "ds_test = deeplake.load('hub://activeloop/chest-xray-test')\n",
        "# https://datasets.activeloop.ai/docs/ml/datasets/chest-x-ray-image-dataset/"
      ]
    },
    {
      "cell_type": "code",
      "execution_count": null,
      "metadata": {
        "id": "PeUY7X_MrslR"
      },
      "outputs": [],
      "source": [
        "tform = transforms.Compose([\n",
        "    transforms.ToTensor(),\n",
        "    transforms.Resize((1500,1500), antialias=True),\n",
        "])"
      ]
    },
    {
      "cell_type": "code",
      "execution_count": null,
      "metadata": {
        "id": "XNd7ClhGlYbj"
      },
      "outputs": [],
      "source": [
        "train_loader = ds_train.pytorch(num_workers=0, transform = {'images': tform, 'labels': None}, batch_size=4, shuffle=False, decode_method={\"images\": \"numpy\"})\n",
        "test_loader = ds_test.pytorch(num_workers=0,  transform = {'images': tform, 'labels': None}, batch_size=4, shuffle=False, decode_method={\"images\": \"numpy\"})"
      ]
    },
    {
      "cell_type": "code",
      "execution_count": null,
      "metadata": {
        "colab": {
          "base_uri": "https://localhost:8080/"
        },
        "id": "zfqcQKn9oSQR",
        "outputId": "4dcdb044-3edf-45c0-af40-75663e3b4737"
      },
      "outputs": [
        {
          "name": "stdout",
          "output_type": "stream",
          "text": [
            "cpu\n"
          ]
        }
      ],
      "source": [
        "device = torch.device('cuda') if torch.cuda.is_available() else torch.device('cpu')\n",
        "print(device)"
      ]
    },
    {
      "cell_type": "code",
      "execution_count": null,
      "metadata": {
        "id": "mSaWrhQ4nTqY"
      },
      "outputs": [],
      "source": [
        "# Options for models: \n",
        "# https://pytorch.org/vision/stable/models.html\n",
        "# RESNET18: Deep Residual Learning\n",
        "model = models.resnet18(weights=models.ResNet18_Weights.DEFAULT)\n",
        "\n",
        "# Convert model to grayscale\n",
        "model.conv1 = torch.nn.Conv2d(1, 64, kernel_size=7, stride=2, padding=3, bias=False)\n",
        "\n",
        "# Update the fully connected layer based on the number of classes in the dataset\n",
        "model.fc = torch.nn.Linear(model.fc.in_features, len(ds_train.labels.info.class_names))\n",
        "\n",
        "model.to(device)\n",
        "\n",
        "# Specity the loss function and optimizer\n",
        "criterion = torch.nn.CrossEntropyLoss()\n",
        "optimizer = torch.optim.SGD(model.parameters(), lr=0.001, momentum=0.1)"
      ]
    },
    {
      "cell_type": "code",
      "execution_count": null,
      "metadata": {
        "id": "Uzcfr1eLpSmA"
      },
      "outputs": [],
      "source": [
        "def train_model(model, optimizer, data_loader, device):\n",
        "\n",
        "    model.train()\n",
        "\n",
        "    running_loss = 0.0\n",
        "    total = 0\n",
        "    correct = 0\n",
        "    \n",
        "    for i, data in enumerate(data_loader):\n",
        "        start_time = time.time()\n",
        "        # get the inputs; data is a list of [inputs, labels]\n",
        "        inputs = data['images']\n",
        "        labels = torch.squeeze(data['labels'])\n",
        "\n",
        "        inputs = inputs.to(device)\n",
        "        labels = labels.to(device)\n",
        "\n",
        "        # zero the parameter gradients\n",
        "        optimizer.zero_grad()\n",
        "\n",
        "        # forward + backward + optimize\n",
        "        outputs = model(inputs.float())\n",
        "        loss = criterion(outputs, labels)\n",
        "        loss.backward()\n",
        "        optimizer.step()\n",
        "        \n",
        "        _, predicted = torch.max(outputs.data, 1)\n",
        "        total += labels.size(0)\n",
        "        correct += (predicted == labels).sum().item()\n",
        "        accuracy = 100 * correct / total\n",
        "    \n",
        "        if i % 10 == 0:    # print every 10 batches\n",
        "            batch_time = time.time()\n",
        "            speed = (batch_time-start_time)\n",
        "            print('[%5d] loss: %.3f, speed: %.2f, accuracy: %.2f %%' %\n",
        "                  (i, running_loss, speed, accuracy))\n",
        "\n",
        "            running_loss = 0.0\n",
        "            total = 0\n",
        "            correct = 0\n",
        "        if i == 100: \n",
        "          break;\n",
        "    print('Finished Training')"
      ]
    },
    {
      "cell_type": "code",
      "execution_count": null,
      "metadata": {
        "colab": {
          "background_save": true,
          "base_uri": "https://localhost:8080/"
        },
        "id": "WgcFc1J0payl",
        "outputId": "b256a5d4-aced-45b4-b067-a6d9e1cb0dc1"
      },
      "outputs": [
        {
          "name": "stdout",
          "output_type": "stream",
          "text": [
            "[    0] loss: 0.000, speed: 59.02, accuracy: 0.00 %\n",
            "[   10] loss: 0.000, speed: 53.66, accuracy: 90.00 %\n",
            "[   20] loss: 0.000, speed: 53.07, accuracy: 100.00 %\n",
            "[   30] loss: 0.000, speed: 53.52, accuracy: 100.00 %\n",
            "[   40] loss: 0.000, speed: 52.03, accuracy: 100.00 %\n",
            "[   50] loss: 0.000, speed: 52.42, accuracy: 100.00 %\n",
            "[   60] loss: 0.000, speed: 52.34, accuracy: 100.00 %\n",
            "[   70] loss: 0.000, speed: 52.48, accuracy: 100.00 %\n",
            "[   80] loss: 0.000, speed: 52.19, accuracy: 100.00 %\n",
            "[   90] loss: 0.000, speed: 50.44, accuracy: 100.00 %\n",
            "[  100] loss: 0.000, speed: 50.58, accuracy: 100.00 %\n",
            "Finished Training\n"
          ]
        }
      ],
      "source": [
        "train_model(model, optimizer, train_loader, device)"
      ]
    },
    {
      "cell_type": "code",
      "execution_count": null,
      "metadata": {
        "colab": {
          "background_save": true
        },
        "id": "ogyQJ3TfEO8B"
      },
      "outputs": [],
      "source": [
        "y_pred = []\n",
        "y_true = []\n",
        "\n",
        "def test_model(model, data_loader):\n",
        "    model.eval()\n",
        "\n",
        "    start_time = time.time()\n",
        "    total = 0\n",
        "    correct = 0\n",
        "    with torch.no_grad():\n",
        "        for i, data in enumerate(data_loader):\n",
        "            # get the inputs; data is a list of [inputs, labels]\n",
        "            inputs = data['images']\n",
        "            labels = torch.squeeze(data['labels'])\n",
        "\n",
        "            inputs = inputs.to(device)\n",
        "            labels = labels.to(device)\n",
        "\n",
        "            # zero the parameter gradients\n",
        "            optimizer.zero_grad()\n",
        "\n",
        "            # forward + backward + optimize\n",
        "            outputs = model(inputs.float())\n",
        "\n",
        "            _, predicted = torch.max(outputs.data, 1)\n",
        "            y_pred.extend(predicted.data.cpu().numpy())\n",
        "            y_true.extend(labels)\n",
        "            total += labels.size(0)\n",
        "            correct += (predicted == labels).sum().item()\n",
        "            accuracy = 100 * correct / total\n",
        "            if i % 10 == 0: \n",
        "              print(\"Current Accuracy: {accuracy}\")\n",
        "\n",
        "        print('Finished Testing')\n",
        "        print('Testing accuracy: %.1f %%' %(accuracy))"
      ]
    },
    {
      "cell_type": "code",
      "execution_count": null,
      "metadata": {
        "colab": {
          "background_save": true
        },
        "id": "JjZ1yANnEU7N",
        "outputId": "73eafdaf-468e-461b-9dc1-cc3236d3e3ac"
      },
      "outputs": [
        {
          "name": "stdout",
          "output_type": "stream",
          "text": [
            "Current Accuracy: 100.0\n",
            "Current Accuracy: 100.0\n",
            "Current Accuracy: 100.0\n",
            "Current Accuracy: 100.0\n",
            "Current Accuracy: 100.0\n",
            "Current Accuracy: 100.0\n",
            "Current Accuracy: 95.90163934426229\n",
            "Current Accuracy: 82.3943661971831\n",
            "Current Accuracy: 72.22222222222223\n",
            "Current Accuracy: 64.28571428571429\n",
            "Current Accuracy: 57.92079207920792\n",
            "Finished Testing\n",
            "Testing accuracy: 57.9 %\n"
          ]
        }
      ],
      "source": [
        "test_model(model, test_loader)"
      ]
    }
  ],
  "metadata": {
    "colab": {
      "provenance": [],
      "include_colab_link": true
    },
    "kernelspec": {
      "display_name": "Python 3",
      "name": "python3"
    },
    "language_info": {
      "name": "python"
    }
  },
  "nbformat": 4,
  "nbformat_minor": 0
}
