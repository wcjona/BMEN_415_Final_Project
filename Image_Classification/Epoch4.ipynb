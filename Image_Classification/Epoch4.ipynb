{
  "cells": [
    {
      "cell_type": "markdown",
      "metadata": {
        "id": "view-in-github",
        "colab_type": "text"
      },
      "source": [
        "<a href=\"https://colab.research.google.com/github/wcjona/BMEN_415_Final_Project/blob/main/Image_Classification/Epoch4.ipynb\" target=\"_parent\"><img src=\"https://colab.research.google.com/assets/colab-badge.svg\" alt=\"Open In Colab\"/></a>"
      ]
    },
    {
      "cell_type": "code",
      "execution_count": null,
      "metadata": {
        "id": "U-bEWYlih0Uw"
      },
      "outputs": [],
      "source": [
        "!pip3 install deeplake;"
      ]
    },
    {
      "cell_type": "code",
      "execution_count": 3,
      "metadata": {
        "id": "GfNiFkmKlq7J"
      },
      "outputs": [],
      "source": [
        "import deeplake\n",
        "from PIL import Image\n",
        "import numpy as np\n",
        "import os, time\n",
        "import torch\n",
        "from torchvision import transforms, models"
      ]
    },
    {
      "cell_type": "code",
      "execution_count": 5,
      "metadata": {
        "colab": {
          "base_uri": "https://localhost:8080/"
        },
        "id": "YV6E4rCHU4-9",
        "outputId": "281f238c-4b3f-40c7-fa78-01a72ef72e2c"
      },
      "outputs": [
        {
          "output_type": "stream",
          "name": "stderr",
          "text": [
            "|"
          ]
        },
        {
          "output_type": "stream",
          "name": "stdout",
          "text": [
            "This dataset can be visualized in Jupyter Notebook by ds.visualize() or at https://app.activeloop.ai/activeloop/chest-xray-train\n",
            "\n"
          ]
        },
        {
          "output_type": "stream",
          "name": "stderr",
          "text": [
            "-"
          ]
        },
        {
          "output_type": "stream",
          "name": "stdout",
          "text": [
            "hub://activeloop/chest-xray-train loaded successfully.\n",
            "\n"
          ]
        },
        {
          "output_type": "stream",
          "name": "stderr",
          "text": [
            "-"
          ]
        },
        {
          "output_type": "stream",
          "name": "stdout",
          "text": [
            "This dataset can be visualized in Jupyter Notebook by ds.visualize() or at https://app.activeloop.ai/activeloop/chest-xray-test\n",
            "\n"
          ]
        },
        {
          "output_type": "stream",
          "name": "stderr",
          "text": [
            "|"
          ]
        },
        {
          "output_type": "stream",
          "name": "stdout",
          "text": [
            "hub://activeloop/chest-xray-test loaded successfully.\n",
            "\n"
          ]
        },
        {
          "output_type": "stream",
          "name": "stderr",
          "text": [
            "\r \r\r \r"
          ]
        }
      ],
      "source": [
        "ds_train = deeplake.load('hub://activeloop/chest-xray-train')\n",
        "ds_test = deeplake.load('hub://activeloop/chest-xray-test')\n",
        "# https://datasets.activeloop.ai/docs/ml/datasets/chest-x-ray-image-dataset/"
      ]
    },
    {
      "cell_type": "code",
      "execution_count": 39,
      "metadata": {
        "id": "PeUY7X_MrslR"
      },
      "outputs": [],
      "source": [
        "tform = transforms.Compose([\n",
        "    transforms.ToTensor(),\n",
        "    transforms.Resize((255,255), antialias=True),\n",
        "    transforms.Grayscale(1),\n",
        "])"
      ]
    },
    {
      "cell_type": "code",
      "execution_count": 40,
      "metadata": {
        "id": "XNd7ClhGlYbj"
      },
      "outputs": [],
      "source": [
        "train_loader = ds_train.pytorch(num_workers=0, transform = {'images': tform, 'labels': None}, batch_size=4, shuffle=True, decode_method={\"images\": \"pil\"})\n",
        "test_loader = ds_test.pytorch(num_workers=0,  transform = {'images': tform, 'labels': None}, batch_size=4, shuffle=True, decode_method={\"images\": \"pil\"})"
      ]
    },
    {
      "cell_type": "code",
      "execution_count": 41,
      "metadata": {
        "colab": {
          "base_uri": "https://localhost:8080/"
        },
        "id": "zfqcQKn9oSQR",
        "outputId": "818fc865-cb73-4c82-ead9-4a8a812306cd"
      },
      "outputs": [
        {
          "output_type": "stream",
          "name": "stdout",
          "text": [
            "cpu\n"
          ]
        }
      ],
      "source": [
        "device = torch.device('cuda') if torch.cuda.is_available() else torch.device('cpu')\n",
        "print(device)"
      ]
    },
    {
      "cell_type": "code",
      "execution_count": 42,
      "metadata": {
        "id": "mSaWrhQ4nTqY"
      },
      "outputs": [],
      "source": [
        "# Options for models: \n",
        "# https://pytorch.org/vision/stable/models.html\n",
        "# RESNET18: Deep Residual Learning\n",
        "model = models.resnet18(weights=models.ResNet18_Weights.DEFAULT)\n",
        "\n",
        "# Convert model to grayscale\n",
        "model.conv1 = torch.nn.Conv2d(1, 64, kernel_size=7, stride=2, padding=3, bias=False)\n",
        "\n",
        "# Update the fully connected layer based on the number of classes in the dataset\n",
        "model.fc = torch.nn.Linear(model.fc.in_features, len(ds_train.labels.info.class_names))\n",
        "\n",
        "model.to(device)\n",
        "\n",
        "# Specity the loss function and optimizer\n",
        "criterion = torch.nn.CrossEntropyLoss()\n",
        "optimizer = torch.optim.SGD(model.parameters(), lr=0.001, momentum=0.1)"
      ]
    },
    {
      "cell_type": "code",
      "execution_count": 52,
      "metadata": {
        "id": "Uzcfr1eLpSmA"
      },
      "outputs": [],
      "source": [
        "def train_model(model, optimizer, data_loader, device):\n",
        "\n",
        "    model.train()\n",
        "\n",
        "    running_loss = 0.0\n",
        "    total = 0\n",
        "    correct = 0\n",
        "    \n",
        "    for i, data in enumerate(data_loader):\n",
        "        start_time = time.time()\n",
        "        # get the inputs; data is a list of [inputs, labels]\n",
        "        inputs = data['images']\n",
        "        labels = torch.squeeze(data['labels'])\n",
        "\n",
        "        inputs = inputs.to(device)\n",
        "        labels = labels.to(device)\n",
        "\n",
        "        # zero the parameter gradients\n",
        "        optimizer.zero_grad()\n",
        "\n",
        "        # forward + backward + optimize\n",
        "        outputs = model(inputs.float())\n",
        "        loss = criterion(outputs, labels)\n",
        "        loss.backward()\n",
        "        optimizer.step()\n",
        "        \n",
        "        _, predicted = torch.max(outputs.data, 1)\n",
        "        total += labels.size(0)\n",
        "        correct += (predicted == labels).sum().item()\n",
        "        accuracy = 100 * correct / total\n",
        "    \n",
        "        if i % 100 == 0:    # print every 10 batches\n",
        "            batch_time = time.time()\n",
        "            speed = (batch_time-start_time)\n",
        "            print('[%5d] loss: %.3f, speed: %.2f, accuracy: %.2f %%' %\n",
        "                  (i, running_loss, speed, accuracy))\n",
        "\n",
        "            running_loss = 0.0\n",
        "            total = 0\n",
        "            correct = 0\n",
        "    print('Finished Training')"
      ]
    },
    {
      "cell_type": "code",
      "execution_count": 53,
      "metadata": {
        "colab": {
          "base_uri": "https://localhost:8080/"
        },
        "id": "WgcFc1J0payl",
        "outputId": "cc2132b3-dce3-48ee-f5ca-797042a0a4ba"
      },
      "outputs": [
        {
          "output_type": "stream",
          "name": "stdout",
          "text": [
            "[    0] loss: 0.000, speed: 1.25, accuracy: 75.00 %\n",
            "[  100] loss: 0.000, speed: 1.23, accuracy: 68.25 %\n",
            "[  200] loss: 0.000, speed: 1.22, accuracy: 66.50 %\n",
            "[  300] loss: 0.000, speed: 1.27, accuracy: 57.00 %\n",
            "[  400] loss: 0.000, speed: 1.26, accuracy: 67.75 %\n",
            "[  500] loss: 0.000, speed: 2.00, accuracy: 59.00 %\n",
            "[  600] loss: 0.000, speed: 1.21, accuracy: 59.25 %\n",
            "[  700] loss: 0.000, speed: 1.94, accuracy: 59.00 %\n",
            "[  800] loss: 0.000, speed: 1.26, accuracy: 72.25 %\n",
            "[  900] loss: 0.000, speed: 1.26, accuracy: 61.25 %\n",
            "[ 1000] loss: 0.000, speed: 1.24, accuracy: 65.75 %\n",
            "[ 1100] loss: 0.000, speed: 1.79, accuracy: 64.25 %\n",
            "[ 1200] loss: 0.000, speed: 1.25, accuracy: 60.50 %\n",
            "[ 1300] loss: 0.000, speed: 1.24, accuracy: 64.25 %\n",
            "Finished Training\n",
            "Finished Training for epoch #3\n",
            "[    0] loss: 0.000, speed: 1.21, accuracy: 100.00 %\n",
            "[  100] loss: 0.000, speed: 1.24, accuracy: 72.25 %\n",
            "[  200] loss: 0.000, speed: 1.23, accuracy: 66.25 %\n",
            "[  300] loss: 0.000, speed: 1.21, accuracy: 63.25 %\n",
            "[  400] loss: 0.000, speed: 1.23, accuracy: 66.50 %\n",
            "[  500] loss: 0.000, speed: 1.31, accuracy: 64.75 %\n",
            "[  600] loss: 0.000, speed: 1.24, accuracy: 75.75 %\n",
            "[  700] loss: 0.000, speed: 1.24, accuracy: 67.75 %\n",
            "[  800] loss: 0.000, speed: 1.22, accuracy: 63.75 %\n",
            "[  900] loss: 0.000, speed: 1.79, accuracy: 66.25 %\n",
            "[ 1000] loss: 0.000, speed: 1.22, accuracy: 69.50 %\n",
            "[ 1100] loss: 0.000, speed: 1.57, accuracy: 77.25 %\n",
            "[ 1200] loss: 0.000, speed: 1.21, accuracy: 74.75 %\n",
            "[ 1300] loss: 0.000, speed: 1.22, accuracy: 68.25 %\n",
            "Finished Training\n",
            "Finished Training for epoch #3\n",
            "[    0] loss: 0.000, speed: 1.51, accuracy: 100.00 %\n",
            "[  100] loss: 0.000, speed: 1.27, accuracy: 67.00 %\n",
            "[  200] loss: 0.000, speed: 2.12, accuracy: 72.50 %\n",
            "[  300] loss: 0.000, speed: 1.23, accuracy: 73.50 %\n",
            "[  400] loss: 0.000, speed: 1.28, accuracy: 75.00 %\n",
            "[  500] loss: 0.000, speed: 1.23, accuracy: 70.75 %\n",
            "[  600] loss: 0.000, speed: 1.26, accuracy: 73.00 %\n",
            "[  700] loss: 0.000, speed: 1.24, accuracy: 76.00 %\n",
            "[  800] loss: 0.000, speed: 1.31, accuracy: 70.25 %\n",
            "[  900] loss: 0.000, speed: 1.26, accuracy: 81.00 %\n",
            "[ 1000] loss: 0.000, speed: 1.29, accuracy: 76.25 %\n",
            "[ 1100] loss: 0.000, speed: 1.25, accuracy: 76.50 %\n",
            "[ 1200] loss: 0.000, speed: 1.28, accuracy: 75.00 %\n",
            "[ 1300] loss: 0.000, speed: 1.25, accuracy: 74.00 %\n",
            "Finished Training\n",
            "Finished Training for epoch #3\n"
          ]
        }
      ],
      "source": [
        "epoch = 3\n",
        "for i in range(epoch):\n",
        "  train_model(model, optimizer, train_loader, device)\n",
        "  print(f'Finished Training for epoch #{i}')"
      ]
    },
    {
      "cell_type": "code",
      "execution_count": 54,
      "metadata": {
        "id": "ogyQJ3TfEO8B"
      },
      "outputs": [],
      "source": [
        "y_pred = []\n",
        "y_true = []\n",
        "\n",
        "def test_model(model, data_loader):\n",
        "    model.eval()\n",
        "\n",
        "    start_time = time.time()\n",
        "    total = 0\n",
        "    correct = 0\n",
        "    with torch.no_grad():\n",
        "        for i, data in enumerate(data_loader):\n",
        "            # get the inputs; data is a list of [inputs, labels]\n",
        "            inputs = data['images']\n",
        "            labels = torch.squeeze(data['labels'])\n",
        "\n",
        "            inputs = inputs.to(device)\n",
        "            labels = labels.to(device)\n",
        "\n",
        "            # zero the parameter gradients\n",
        "            optimizer.zero_grad()\n",
        "\n",
        "            # forward + backward + optimize\n",
        "            outputs = model(inputs.float())\n",
        "\n",
        "            _, predicted = torch.max(outputs.data, 1)\n",
        "            y_pred.extend(predicted.data.cpu().numpy())\n",
        "            y_true.extend(labels)\n",
        "            total += labels.size(0)\n",
        "            correct += (predicted == labels).sum().item()\n",
        "            accuracy = 100 * correct / total\n",
        "            if i % 10 == 0: \n",
        "              print(f\"Current Accuracy: {accuracy}\")\n",
        "\n",
        "        print('Finished Testing')\n",
        "        print('Testing accuracy: %.1f %%' %(accuracy))"
      ]
    },
    {
      "cell_type": "code",
      "execution_count": 55,
      "metadata": {
        "colab": {
          "base_uri": "https://localhost:8080/"
        },
        "id": "JjZ1yANnEU7N",
        "outputId": "27f889f9-0714-47d7-b480-11e2ea63dba9"
      },
      "outputs": [
        {
          "output_type": "stream",
          "name": "stdout",
          "text": [
            "Current Accuracy: 100.0\n",
            "Current Accuracy: 95.45454545454545\n",
            "Current Accuracy: 54.76190476190476\n",
            "Current Accuracy: 41.935483870967744\n",
            "Current Accuracy: 46.951219512195124\n",
            "Current Accuracy: 39.705882352941174\n",
            "Current Accuracy: 45.08196721311475\n",
            "Current Accuracy: 39.7887323943662\n",
            "Current Accuracy: 42.28395061728395\n",
            "Current Accuracy: 39.83516483516483\n",
            "Current Accuracy: 40.0990099009901\n",
            "Current Accuracy: 39.189189189189186\n",
            "Current Accuracy: 37.1900826446281\n",
            "Current Accuracy: 40.0763358778626\n",
            "Current Accuracy: 43.794326241134755\n",
            "Current Accuracy: 41.390728476821195\n",
            "Finished Testing\n",
            "Testing accuracy: 40.2 %\n"
          ]
        }
      ],
      "source": [
        "test_model(model, test_loader)"
      ]
    },
    {
      "cell_type": "code",
      "source": [
        "from sklearn.metrics import confusion_matrix\n",
        "import seaborn as sn\n",
        "import pandas as pd\n",
        "import matplotlib.pyplot as plt\n",
        "\n",
        "# constant for classes\n",
        "classes = ('Normal', 'Bacterial', 'Viral')\n",
        "\n",
        "# Build confusion matrix\n",
        "cf_matrix = confusion_matrix(y_true, y_pred)\n",
        "df_cm = pd.DataFrame(cf_matrix / np.sum(cf_matrix, axis=1)[:, None], index = [i for i in classes],\n",
        "                     columns = [i for i in classes])\n",
        "plt.figure(figsize = (12,7))\n",
        "sn.heatmap(df_cm, annot=True)\n",
        "plt.savefig('output.png')"
      ],
      "metadata": {
        "colab": {
          "base_uri": "https://localhost:8080/",
          "height": 599
        },
        "id": "0AWl16wBK_ul",
        "outputId": "a229de6f-650d-4060-ef00-f0170ccf1995"
      },
      "execution_count": 56,
      "outputs": [
        {
          "output_type": "display_data",
          "data": {
            "text/plain": [
              "<Figure size 1200x700 with 2 Axes>"
            ],
            "image/png": "[encoded data removed]"
          },
          "metadata": {}
        }
      ]
    }
  ],
  "metadata": {
    "colab": {
      "provenance": [],
      "include_colab_link": true
    },
    "kernelspec": {
      "display_name": "Python 3",
      "name": "python3"
    },
    "language_info": {
      "name": "python"
    }
  },
  "nbformat": 4,
  "nbformat_minor": 0
}