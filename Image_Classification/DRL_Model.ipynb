{
  "cells": [
    {
      "cell_type": "markdown",
      "metadata": {
        "id": "view-in-github",
        "colab_type": "text"
      },
      "source": [
        "<a href=\"https://colab.research.google.com/github/wcjona/BMEN_415_Final_Project/blob/main/Image_Classification/DRL_Model.ipynb\" target=\"_parent\"><img src=\"https://colab.research.google.com/assets/colab-badge.svg\" alt=\"Open In Colab\"/></a>"
      ]
    },
    {
      "cell_type": "code",
      "execution_count": 2,
      "metadata": {
        "id": "U-bEWYlih0Uw",
        "colab": {
          "base_uri": "https://localhost:8080/"
        },
        "outputId": "8f54da98-ba5f-43ce-c1d2-4eadd5fa83b7"
      },
      "outputs": [
        {
          "output_type": "stream",
          "name": "stdout",
          "text": [
            "Looking in indexes: https://pypi.org/simple, https://us-python.pkg.dev/colab-wheels/public/simple/\n",
            "Collecting deeplake\n",
            "  Downloading deeplake-3.2.22.tar.gz (457 kB)\n",
            "\u001b[2K     \u001b[90m━━━━━━━━━━━━━━━━━━━━━━━━━━━━━━━━━━━━━━━\u001b[0m \u001b[32m457.4/457.4 kB\u001b[0m \u001b[31m8.2 MB/s\u001b[0m eta \u001b[36m0:00:00\u001b[0m\n",
            "\u001b[?25h  Preparing metadata (setup.py) ... \u001b[?25l\u001b[?25hdone\n",
            "Requirement already satisfied: numpy in /usr/local/lib/python3.9/dist-packages (from deeplake) (1.22.4)\n",
            "Requirement already satisfied: pillow in /usr/local/lib/python3.9/dist-packages (from deeplake) (8.4.0)\n",
            "Collecting boto3\n",
            "  Downloading boto3-1.26.110-py3-none-any.whl (135 kB)\n",
            "\u001b[2K     \u001b[90m━━━━━━━━━━━━━━━━━━━━━━━━━━━━━━━━━━━━━━\u001b[0m \u001b[32m135.6/135.6 kB\u001b[0m \u001b[31m15.7 MB/s\u001b[0m eta \u001b[36m0:00:00\u001b[0m\n",
            "\u001b[?25hRequirement already satisfied: click in /usr/local/lib/python3.9/dist-packages (from deeplake) (8.1.3)\n",
            "Collecting pathos\n",
            "  Downloading pathos-0.3.0-py3-none-any.whl (79 kB)\n",
            "\u001b[2K     \u001b[90m━━━━━━━━━━━━━━━━━━━━━━━━━━━━━━━━━━━━━━━━\u001b[0m \u001b[32m79.8/79.8 kB\u001b[0m \u001b[31m9.2 MB/s\u001b[0m eta \u001b[36m0:00:00\u001b[0m\n",
            "\u001b[?25hCollecting humbug>=0.3.1\n",
            "  Downloading humbug-0.3.1-py3-none-any.whl (15 kB)\n",
            "Requirement already satisfied: tqdm in /usr/local/lib/python3.9/dist-packages (from deeplake) (4.65.0)\n",
            "Collecting numcodecs\n",
            "  Downloading numcodecs-0.11.0-cp39-cp39-manylinux_2_17_x86_64.manylinux2014_x86_64.whl (6.7 MB)\n",
            "\u001b[2K     \u001b[90m━━━━━━━━━━━━━━━━━━━━━━━━━━━━━━━━━━━━━━━━\u001b[0m \u001b[32m6.7/6.7 MB\u001b[0m \u001b[31m53.9 MB/s\u001b[0m eta \u001b[36m0:00:00\u001b[0m\n",
            "\u001b[?25hCollecting pyjwt\n",
            "  Downloading PyJWT-2.6.0-py3-none-any.whl (20 kB)\n",
            "Collecting aioboto3==10.4.0\n",
            "  Downloading aioboto3-10.4.0-py3-none-any.whl (32 kB)\n",
            "Requirement already satisfied: nest_asyncio in /usr/local/lib/python3.9/dist-packages (from deeplake) (1.5.6)\n",
            "Collecting aiobotocore[boto3]==2.4.2\n",
            "  Downloading aiobotocore-2.4.2-py3-none-any.whl (66 kB)\n",
            "\u001b[2K     \u001b[90m━━━━━━━━━━━━━━━━━━━━━━━━━━━━━━━━━━━━━━━━\u001b[0m \u001b[32m66.8/66.8 kB\u001b[0m \u001b[31m9.1 MB/s\u001b[0m eta \u001b[36m0:00:00\u001b[0m\n",
            "\u001b[?25hRequirement already satisfied: wrapt>=1.10.10 in /usr/local/lib/python3.9/dist-packages (from aiobotocore[boto3]==2.4.2->aioboto3==10.4.0->deeplake) (1.14.1)\n",
            "Collecting aioitertools>=0.5.1\n",
            "  Downloading aioitertools-0.11.0-py3-none-any.whl (23 kB)\n",
            "Collecting aiohttp>=3.3.1\n",
            "  Downloading aiohttp-3.8.4-cp39-cp39-manylinux_2_17_x86_64.manylinux2014_x86_64.whl (1.0 MB)\n",
            "\u001b[2K     \u001b[90m━━━━━━━━━━━━━━━━━━━━━━━━━━━━━━━━━━━━━━━━\u001b[0m \u001b[32m1.0/1.0 MB\u001b[0m \u001b[31m63.5 MB/s\u001b[0m eta \u001b[36m0:00:00\u001b[0m\n",
            "\u001b[?25hCollecting botocore<1.27.60,>=1.27.59\n",
            "  Downloading botocore-1.27.59-py3-none-any.whl (9.1 MB)\n",
            "\u001b[2K     \u001b[90m━━━━━━━━━━━━━━━━━━━━━━━━━━━━━━━━━━━━━━━━\u001b[0m \u001b[32m9.1/9.1 MB\u001b[0m \u001b[31m71.6 MB/s\u001b[0m eta \u001b[36m0:00:00\u001b[0m\n",
            "\u001b[?25hCollecting boto3\n",
            "  Downloading boto3-1.24.59-py3-none-any.whl (132 kB)\n",
            "\u001b[2K     \u001b[90m━━━━━━━━━━━━━━━━━━━━━━━━━━━━━━━━━━━━━━\u001b[0m \u001b[32m132.5/132.5 kB\u001b[0m \u001b[31m16.1 MB/s\u001b[0m eta \u001b[36m0:00:00\u001b[0m\n",
            "\u001b[?25hCollecting s3transfer<0.7.0,>=0.6.0\n",
            "  Downloading s3transfer-0.6.0-py3-none-any.whl (79 kB)\n",
            "\u001b[2K     \u001b[90m━━━━━━━━━━━━━━━━━━━━━━━━━━━━━━━━━━━━━━━━\u001b[0m \u001b[32m79.6/79.6 kB\u001b[0m \u001b[31m9.8 MB/s\u001b[0m eta \u001b[36m0:00:00\u001b[0m\n",
            "\u001b[?25hCollecting jmespath<2.0.0,>=0.7.1\n",
            "  Downloading jmespath-1.0.1-py3-none-any.whl (20 kB)\n",
            "Requirement already satisfied: requests in /usr/local/lib/python3.9/dist-packages (from humbug>=0.3.1->deeplake) (2.27.1)\n",
            "Requirement already satisfied: entrypoints in /usr/local/lib/python3.9/dist-packages (from numcodecs->deeplake) (0.4)\n",
            "Collecting multiprocess>=0.70.14\n",
            "  Downloading multiprocess-0.70.14-py39-none-any.whl (132 kB)\n",
            "\u001b[2K     \u001b[90m━━━━━━━━━━━━━━━━━━━━━━━━━━━━━━━━━━━━━━\u001b[0m \u001b[32m132.9/132.9 kB\u001b[0m \u001b[31m17.8 MB/s\u001b[0m eta \u001b[36m0:00:00\u001b[0m\n",
            "\u001b[?25hCollecting ppft>=1.7.6.6\n",
            "  Downloading ppft-1.7.6.6-py3-none-any.whl (52 kB)\n",
            "\u001b[2K     \u001b[90m━━━━━━━━━━━━━━━━━━━━━━━━━━━━━━━━━━━━━━━━\u001b[0m \u001b[32m52.8/52.8 kB\u001b[0m \u001b[31m7.0 MB/s\u001b[0m eta \u001b[36m0:00:00\u001b[0m\n",
            "\u001b[?25hCollecting pox>=0.3.2\n",
            "  Downloading pox-0.3.2-py3-none-any.whl (29 kB)\n",
            "Collecting dill>=0.3.6\n",
            "  Downloading dill-0.3.6-py3-none-any.whl (110 kB)\n",
            "\u001b[2K     \u001b[90m━━━━━━━━━━━━━━━━━━━━━━━━━━━━━━━━━━━━━━\u001b[0m \u001b[32m110.5/110.5 kB\u001b[0m \u001b[31m14.1 MB/s\u001b[0m eta \u001b[36m0:00:00\u001b[0m\n",
            "\u001b[?25hRequirement already satisfied: python-dateutil<3.0.0,>=2.1 in /usr/local/lib/python3.9/dist-packages (from botocore<1.27.60,>=1.27.59->aiobotocore[boto3]==2.4.2->aioboto3==10.4.0->deeplake) (2.8.2)\n",
            "Requirement already satisfied: urllib3<1.27,>=1.25.4 in /usr/local/lib/python3.9/dist-packages (from botocore<1.27.60,>=1.27.59->aiobotocore[boto3]==2.4.2->aioboto3==10.4.0->deeplake) (1.26.15)\n",
            "Requirement already satisfied: idna<4,>=2.5 in /usr/local/lib/python3.9/dist-packages (from requests->humbug>=0.3.1->deeplake) (3.4)\n",
            "Requirement already satisfied: certifi>=2017.4.17 in /usr/local/lib/python3.9/dist-packages (from requests->humbug>=0.3.1->deeplake) (2022.12.7)\n",
            "Requirement already satisfied: charset-normalizer~=2.0.0 in /usr/local/lib/python3.9/dist-packages (from requests->humbug>=0.3.1->deeplake) (2.0.12)\n",
            "Collecting yarl<2.0,>=1.0\n",
            "  Downloading yarl-1.8.2-cp39-cp39-manylinux_2_17_x86_64.manylinux2014_x86_64.whl (264 kB)\n",
            "\u001b[2K     \u001b[90m━━━━━━━━━━━━━━━━━━━━━━━━━━━━━━━━━━━━━━\u001b[0m \u001b[32m264.6/264.6 kB\u001b[0m \u001b[31m25.6 MB/s\u001b[0m eta \u001b[36m0:00:00\u001b[0m\n",
            "\u001b[?25hCollecting async-timeout<5.0,>=4.0.0a3\n",
            "  Downloading async_timeout-4.0.2-py3-none-any.whl (5.8 kB)\n",
            "Collecting aiosignal>=1.1.2\n",
            "  Downloading aiosignal-1.3.1-py3-none-any.whl (7.6 kB)\n",
            "Collecting frozenlist>=1.1.1\n",
            "  Downloading frozenlist-1.3.3-cp39-cp39-manylinux_2_5_x86_64.manylinux1_x86_64.manylinux_2_17_x86_64.manylinux2014_x86_64.whl (158 kB)\n",
            "\u001b[2K     \u001b[90m━━━━━━━━━━━━━━━━━━━━━━━━━━━━━━━━━━━━━━\u001b[0m \u001b[32m158.8/158.8 kB\u001b[0m \u001b[31m17.6 MB/s\u001b[0m eta \u001b[36m0:00:00\u001b[0m\n",
            "\u001b[?25hCollecting multidict<7.0,>=4.5\n",
            "  Downloading multidict-6.0.4-cp39-cp39-manylinux_2_17_x86_64.manylinux2014_x86_64.whl (114 kB)\n",
            "\u001b[2K     \u001b[90m━━━━━━━━━━━━━━━━━━━━━━━━━━━━━━━━━━━━━━\u001b[0m \u001b[32m114.2/114.2 kB\u001b[0m \u001b[31m15.2 MB/s\u001b[0m eta \u001b[36m0:00:00\u001b[0m\n",
            "\u001b[?25hRequirement already satisfied: attrs>=17.3.0 in /usr/local/lib/python3.9/dist-packages (from aiohttp>=3.3.1->aiobotocore[boto3]==2.4.2->aioboto3==10.4.0->deeplake) (22.2.0)\n",
            "Requirement already satisfied: typing_extensions>=4.0 in /usr/local/lib/python3.9/dist-packages (from aioitertools>=0.5.1->aiobotocore[boto3]==2.4.2->aioboto3==10.4.0->deeplake) (4.5.0)\n",
            "Requirement already satisfied: six>=1.5 in /usr/local/lib/python3.9/dist-packages (from python-dateutil<3.0.0,>=2.1->botocore<1.27.60,>=1.27.59->aiobotocore[boto3]==2.4.2->aioboto3==10.4.0->deeplake) (1.16.0)\n",
            "Building wheels for collected packages: deeplake\n",
            "  Building wheel for deeplake (setup.py) ... \u001b[?25l\u001b[?25hdone\n",
            "  Created wheel for deeplake: filename=deeplake-3.2.22-py3-none-any.whl size=555349 sha256=339836ff8f3ab170b41522b3fa247fac0195281727d0d66bfffcf4a6188b58de\n",
            "  Stored in directory: /root/.cache/pip/wheels/24/cb/09/2278354bd08b44c63bc98f9d6bb0d24d406f542357facf6d1c\n",
            "Successfully built deeplake\n",
            "Installing collected packages: pyjwt, ppft, pox, numcodecs, multidict, jmespath, frozenlist, dill, async-timeout, aioitertools, yarl, multiprocess, humbug, botocore, aiosignal, s3transfer, pathos, aiohttp, boto3, aiobotocore, aioboto3, deeplake\n",
            "Successfully installed aioboto3-10.4.0 aiobotocore-2.4.2 aiohttp-3.8.4 aioitertools-0.11.0 aiosignal-1.3.1 async-timeout-4.0.2 boto3-1.24.59 botocore-1.27.59 deeplake-3.2.22 dill-0.3.6 frozenlist-1.3.3 humbug-0.3.1 jmespath-1.0.1 multidict-6.0.4 multiprocess-0.70.14 numcodecs-0.11.0 pathos-0.3.0 pox-0.3.2 ppft-1.7.6.6 pyjwt-2.6.0 s3transfer-0.6.0 yarl-1.8.2\n"
          ]
        }
      ],
      "source": [
        "!pip3 install deeplake;"
      ]
    },
    {
      "cell_type": "code",
      "execution_count": 3,
      "metadata": {
        "id": "GfNiFkmKlq7J"
      },
      "outputs": [],
      "source": [
        "import deeplake\n",
        "from PIL import Image\n",
        "import numpy as np\n",
        "import os, time\n",
        "import torch\n",
        "from torchvision import transforms, models"
      ]
    },
    {
      "cell_type": "code",
      "execution_count": 5,
      "metadata": {
        "colab": {
          "base_uri": "https://localhost:8080/"
        },
        "id": "YV6E4rCHU4-9",
        "outputId": "281f238c-4b3f-40c7-fa78-01a72ef72e2c"
      },
      "outputs": [
        {
          "output_type": "stream",
          "name": "stderr",
          "text": [
            "|"
          ]
        },
        {
          "output_type": "stream",
          "name": "stdout",
          "text": [
            "This dataset can be visualized in Jupyter Notebook by ds.visualize() or at https://app.activeloop.ai/activeloop/chest-xray-train\n",
            "\n"
          ]
        },
        {
          "output_type": "stream",
          "name": "stderr",
          "text": [
            "-"
          ]
        },
        {
          "output_type": "stream",
          "name": "stdout",
          "text": [
            "hub://activeloop/chest-xray-train loaded successfully.\n",
            "\n"
          ]
        },
        {
          "output_type": "stream",
          "name": "stderr",
          "text": [
            "-"
          ]
        },
        {
          "output_type": "stream",
          "name": "stdout",
          "text": [
            "This dataset can be visualized in Jupyter Notebook by ds.visualize() or at https://app.activeloop.ai/activeloop/chest-xray-test\n",
            "\n"
          ]
        },
        {
          "output_type": "stream",
          "name": "stderr",
          "text": [
            "|"
          ]
        },
        {
          "output_type": "stream",
          "name": "stdout",
          "text": [
            "hub://activeloop/chest-xray-test loaded successfully.\n",
            "\n"
          ]
        },
        {
          "output_type": "stream",
          "name": "stderr",
          "text": [
            "\r \r\r \r"
          ]
        }
      ],
      "source": [
        "ds_train = deeplake.load('hub://activeloop/chest-xray-train')\n",
        "ds_test = deeplake.load('hub://activeloop/chest-xray-test')\n",
        "# https://datasets.activeloop.ai/docs/ml/datasets/chest-x-ray-image-dataset/"
      ]
    },
    {
      "cell_type": "code",
      "execution_count": 39,
      "metadata": {
        "id": "PeUY7X_MrslR"
      },
      "outputs": [],
      "source": [
        "tform = transforms.Compose([\n",
        "    transforms.ToTensor(),\n",
        "    transforms.Resize((255,255), antialias=True),\n",
        "    transforms.Grayscale(1),\n",
        "])"
      ]
    },
    {
      "cell_type": "code",
      "execution_count": 40,
      "metadata": {
        "id": "XNd7ClhGlYbj"
      },
      "outputs": [],
      "source": [
        "train_loader = ds_train.pytorch(num_workers=0, transform = {'images': tform, 'labels': None}, batch_size=4, shuffle=True, decode_method={\"images\": \"pil\"})\n",
        "test_loader = ds_test.pytorch(num_workers=0,  transform = {'images': tform, 'labels': None}, batch_size=4, shuffle=True, decode_method={\"images\": \"pil\"})"
      ]
    },
    {
      "cell_type": "code",
      "execution_count": 41,
      "metadata": {
        "colab": {
          "base_uri": "https://localhost:8080/"
        },
        "id": "zfqcQKn9oSQR",
        "outputId": "818fc865-cb73-4c82-ead9-4a8a812306cd"
      },
      "outputs": [
        {
          "output_type": "stream",
          "name": "stdout",
          "text": [
            "cpu\n"
          ]
        }
      ],
      "source": [
        "device = torch.device('cuda') if torch.cuda.is_available() else torch.device('cpu')\n",
        "print(device)"
      ]
    },
    {
      "cell_type": "code",
      "execution_count": 42,
      "metadata": {
        "id": "mSaWrhQ4nTqY"
      },
      "outputs": [],
      "source": [
        "# Options for models: \n",
        "# https://pytorch.org/vision/stable/models.html\n",
        "# RESNET18: Deep Residual Learning\n",
        "model = models.resnet18(weights=models.ResNet18_Weights.DEFAULT)\n",
        "\n",
        "# Convert model to grayscale\n",
        "model.conv1 = torch.nn.Conv2d(1, 64, kernel_size=7, stride=2, padding=3, bias=False)\n",
        "\n",
        "# Update the fully connected layer based on the number of classes in the dataset\n",
        "model.fc = torch.nn.Linear(model.fc.in_features, len(ds_train.labels.info.class_names))\n",
        "\n",
        "model.to(device)\n",
        "\n",
        "# Specity the loss function and optimizer\n",
        "criterion = torch.nn.CrossEntropyLoss()\n",
        "optimizer = torch.optim.SGD(model.parameters(), lr=0.001, momentum=0.1)"
      ]
    },
    {
      "cell_type": "code",
      "execution_count": 43,
      "metadata": {
        "id": "Uzcfr1eLpSmA"
      },
      "outputs": [],
      "source": [
        "def train_model(model, optimizer, data_loader, device):\n",
        "\n",
        "    model.train()\n",
        "\n",
        "    running_loss = 0.0\n",
        "    total = 0\n",
        "    correct = 0\n",
        "    \n",
        "    for i, data in enumerate(data_loader):\n",
        "        start_time = time.time()\n",
        "        # get the inputs; data is a list of [inputs, labels]\n",
        "        inputs = data['images']\n",
        "        labels = torch.squeeze(data['labels'])\n",
        "\n",
        "        inputs = inputs.to(device)\n",
        "        labels = labels.to(device)\n",
        "\n",
        "        # zero the parameter gradients\n",
        "        optimizer.zero_grad()\n",
        "\n",
        "        # forward + backward + optimize\n",
        "        outputs = model(inputs.float())\n",
        "        loss = criterion(outputs, labels)\n",
        "        loss.backward()\n",
        "        optimizer.step()\n",
        "        \n",
        "        _, predicted = torch.max(outputs.data, 1)\n",
        "        total += labels.size(0)\n",
        "        correct += (predicted == labels).sum().item()\n",
        "        accuracy = 100 * correct / total\n",
        "    \n",
        "        if i % 100 == 0:    # print every 10 batches\n",
        "            batch_time = time.time()\n",
        "            speed = (batch_time-start_time)\n",
        "            print('[%5d] loss: %.3f, speed: %.2f, accuracy: %.2f %%' %\n",
        "                  (i, running_loss, speed, accuracy))\n",
        "\n",
        "            running_loss = 0.0\n",
        "            total = 0\n",
        "            correct = 0\n",
        "    print('Finished Training')"
      ]
    },
    {
      "cell_type": "code",
      "execution_count": 44,
      "metadata": {
        "colab": {
          "base_uri": "https://localhost:8080/"
        },
        "id": "WgcFc1J0payl",
        "outputId": "92135b67-21a4-48f4-cd27-0494a8c4afaf"
      },
      "outputs": [
        {
          "output_type": "stream",
          "name": "stdout",
          "text": [
            "[    0] loss: 0.000, speed: 2.20, accuracy: 75.00 %\n",
            "[   10] loss: 0.000, speed: 1.27, accuracy: 95.00 %\n",
            "[   20] loss: 0.000, speed: 1.32, accuracy: 50.00 %\n",
            "[   30] loss: 0.000, speed: 1.99, accuracy: 47.50 %\n",
            "[   40] loss: 0.000, speed: 2.21, accuracy: 87.50 %\n",
            "[   50] loss: 0.000, speed: 1.27, accuracy: 37.50 %\n",
            "[   60] loss: 0.000, speed: 1.84, accuracy: 47.50 %\n",
            "[   70] loss: 0.000, speed: 1.22, accuracy: 37.50 %\n",
            "[   80] loss: 0.000, speed: 1.29, accuracy: 52.50 %\n",
            "[   90] loss: 0.000, speed: 1.34, accuracy: 62.50 %\n",
            "[  100] loss: 0.000, speed: 1.22, accuracy: 60.00 %\n",
            "[  110] loss: 0.000, speed: 1.28, accuracy: 62.50 %\n",
            "[  120] loss: 0.000, speed: 1.39, accuracy: 75.00 %\n",
            "[  130] loss: 0.000, speed: 1.70, accuracy: 30.00 %\n",
            "[  140] loss: 0.000, speed: 1.25, accuracy: 45.00 %\n",
            "[  150] loss: 0.000, speed: 1.64, accuracy: 62.50 %\n",
            "[  160] loss: 0.000, speed: 1.28, accuracy: 32.50 %\n",
            "[  170] loss: 0.000, speed: 1.25, accuracy: 57.50 %\n",
            "[  180] loss: 0.000, speed: 1.30, accuracy: 77.50 %\n",
            "[  190] loss: 0.000, speed: 1.29, accuracy: 37.50 %\n",
            "[  200] loss: 0.000, speed: 1.28, accuracy: 65.00 %\n",
            "[  210] loss: 0.000, speed: 2.18, accuracy: 42.50 %\n",
            "[  220] loss: 0.000, speed: 1.29, accuracy: 72.50 %\n",
            "[  230] loss: 0.000, speed: 1.29, accuracy: 50.00 %\n",
            "[  240] loss: 0.000, speed: 1.24, accuracy: 35.00 %\n",
            "[  250] loss: 0.000, speed: 1.27, accuracy: 50.00 %\n",
            "[  260] loss: 0.000, speed: 1.63, accuracy: 47.50 %\n",
            "[  270] loss: 0.000, speed: 1.26, accuracy: 72.50 %\n",
            "[  280] loss: 0.000, speed: 1.28, accuracy: 55.00 %\n",
            "[  290] loss: 0.000, speed: 1.24, accuracy: 50.00 %\n",
            "[  300] loss: 0.000, speed: 1.66, accuracy: 47.50 %\n",
            "[  310] loss: 0.000, speed: 1.31, accuracy: 97.50 %\n",
            "[  320] loss: 0.000, speed: 1.27, accuracy: 42.50 %\n",
            "[  330] loss: 0.000, speed: 1.25, accuracy: 37.50 %\n",
            "[  340] loss: 0.000, speed: 1.41, accuracy: 80.00 %\n",
            "[  350] loss: 0.000, speed: 1.29, accuracy: 70.00 %\n",
            "[  360] loss: 0.000, speed: 2.15, accuracy: 40.00 %\n",
            "[  370] loss: 0.000, speed: 1.39, accuracy: 70.00 %\n",
            "[  380] loss: 0.000, speed: 2.20, accuracy: 60.00 %\n",
            "[  390] loss: 0.000, speed: 1.26, accuracy: 85.00 %\n",
            "[  400] loss: 0.000, speed: 1.46, accuracy: 50.00 %\n",
            "[  410] loss: 0.000, speed: 1.24, accuracy: 70.00 %\n",
            "[  420] loss: 0.000, speed: 1.25, accuracy: 62.50 %\n",
            "[  430] loss: 0.000, speed: 1.27, accuracy: 37.50 %\n",
            "[  440] loss: 0.000, speed: 1.26, accuracy: 77.50 %\n",
            "[  450] loss: 0.000, speed: 1.33, accuracy: 67.50 %\n",
            "[  460] loss: 0.000, speed: 1.21, accuracy: 80.00 %\n",
            "[  470] loss: 0.000, speed: 1.31, accuracy: 40.00 %\n",
            "[  480] loss: 0.000, speed: 1.26, accuracy: 42.50 %\n",
            "[  490] loss: 0.000, speed: 1.28, accuracy: 62.50 %\n",
            "[  500] loss: 0.000, speed: 1.55, accuracy: 55.00 %\n",
            "[  510] loss: 0.000, speed: 1.25, accuracy: 85.00 %\n",
            "[  520] loss: 0.000, speed: 1.25, accuracy: 87.50 %\n",
            "[  530] loss: 0.000, speed: 2.21, accuracy: 62.50 %\n",
            "[  540] loss: 0.000, speed: 1.23, accuracy: 32.50 %\n",
            "[  550] loss: 0.000, speed: 1.24, accuracy: 35.00 %\n",
            "[  560] loss: 0.000, speed: 1.25, accuracy: 52.50 %\n",
            "[  570] loss: 0.000, speed: 1.23, accuracy: 70.00 %\n",
            "[  580] loss: 0.000, speed: 1.27, accuracy: 72.50 %\n",
            "[  590] loss: 0.000, speed: 1.28, accuracy: 65.00 %\n",
            "[  600] loss: 0.000, speed: 2.00, accuracy: 55.00 %\n",
            "[  610] loss: 0.000, speed: 1.27, accuracy: 67.50 %\n",
            "[  620] loss: 0.000, speed: 1.24, accuracy: 72.50 %\n",
            "[  630] loss: 0.000, speed: 1.27, accuracy: 50.00 %\n",
            "[  640] loss: 0.000, speed: 1.82, accuracy: 42.50 %\n",
            "[  650] loss: 0.000, speed: 1.28, accuracy: 65.00 %\n",
            "[  660] loss: 0.000, speed: 1.25, accuracy: 52.50 %\n",
            "[  670] loss: 0.000, speed: 1.29, accuracy: 67.50 %\n",
            "[  680] loss: 0.000, speed: 1.25, accuracy: 80.00 %\n",
            "[  690] loss: 0.000, speed: 1.43, accuracy: 42.50 %\n",
            "[  700] loss: 0.000, speed: 1.30, accuracy: 72.50 %\n",
            "[  710] loss: 0.000, speed: 1.27, accuracy: 47.50 %\n",
            "[  720] loss: 0.000, speed: 1.26, accuracy: 50.00 %\n",
            "[  730] loss: 0.000, speed: 1.55, accuracy: 42.50 %\n",
            "[  740] loss: 0.000, speed: 2.07, accuracy: 100.00 %\n",
            "[  750] loss: 0.000, speed: 1.30, accuracy: 40.00 %\n",
            "[  760] loss: 0.000, speed: 1.21, accuracy: 70.00 %\n",
            "[  770] loss: 0.000, speed: 1.89, accuracy: 75.00 %\n",
            "[  780] loss: 0.000, speed: 1.26, accuracy: 72.50 %\n",
            "[  790] loss: 0.000, speed: 1.46, accuracy: 42.50 %\n",
            "[  800] loss: 0.000, speed: 1.25, accuracy: 57.50 %\n",
            "[  810] loss: 0.000, speed: 1.23, accuracy: 70.00 %\n",
            "[  820] loss: 0.000, speed: 1.26, accuracy: 47.50 %\n",
            "[  830] loss: 0.000, speed: 1.23, accuracy: 100.00 %\n",
            "[  840] loss: 0.000, speed: 2.23, accuracy: 35.00 %\n",
            "[  850] loss: 0.000, speed: 1.22, accuracy: 70.00 %\n",
            "[  860] loss: 0.000, speed: 1.28, accuracy: 67.50 %\n",
            "[  870] loss: 0.000, speed: 1.26, accuracy: 40.00 %\n",
            "[  880] loss: 0.000, speed: 1.21, accuracy: 87.50 %\n",
            "[  890] loss: 0.000, speed: 2.06, accuracy: 67.50 %\n",
            "[  900] loss: 0.000, speed: 1.28, accuracy: 70.00 %\n",
            "[  910] loss: 0.000, speed: 1.27, accuracy: 72.50 %\n",
            "[  920] loss: 0.000, speed: 1.26, accuracy: 40.00 %\n",
            "[  930] loss: 0.000, speed: 1.26, accuracy: 77.50 %\n",
            "[  940] loss: 0.000, speed: 1.40, accuracy: 85.00 %\n",
            "[  950] loss: 0.000, speed: 1.28, accuracy: 70.00 %\n",
            "[  960] loss: 0.000, speed: 1.26, accuracy: 52.50 %\n",
            "[  970] loss: 0.000, speed: 1.59, accuracy: 55.00 %\n",
            "[  980] loss: 0.000, speed: 1.25, accuracy: 60.00 %\n",
            "[  990] loss: 0.000, speed: 2.14, accuracy: 50.00 %\n",
            "[ 1000] loss: 0.000, speed: 1.23, accuracy: 65.00 %\n",
            "[ 1010] loss: 0.000, speed: 1.29, accuracy: 60.00 %\n",
            "[ 1020] loss: 0.000, speed: 1.50, accuracy: 50.00 %\n",
            "[ 1030] loss: 0.000, speed: 1.23, accuracy: 80.00 %\n",
            "[ 1040] loss: 0.000, speed: 1.26, accuracy: 80.00 %\n",
            "[ 1050] loss: 0.000, speed: 2.18, accuracy: 80.00 %\n",
            "[ 1060] loss: 0.000, speed: 1.24, accuracy: 87.50 %\n",
            "[ 1070] loss: 0.000, speed: 1.26, accuracy: 92.50 %\n",
            "[ 1080] loss: 0.000, speed: 2.15, accuracy: 62.50 %\n",
            "[ 1090] loss: 0.000, speed: 1.29, accuracy: 67.50 %\n",
            "[ 1100] loss: 0.000, speed: 1.26, accuracy: 47.50 %\n",
            "[ 1110] loss: 0.000, speed: 1.28, accuracy: 32.50 %\n",
            "[ 1120] loss: 0.000, speed: 1.23, accuracy: 47.50 %\n",
            "[ 1130] loss: 0.000, speed: 1.24, accuracy: 87.50 %\n",
            "[ 1140] loss: 0.000, speed: 1.27, accuracy: 40.00 %\n",
            "[ 1150] loss: 0.000, speed: 1.26, accuracy: 40.00 %\n",
            "[ 1160] loss: 0.000, speed: 1.25, accuracy: 70.00 %\n",
            "[ 1170] loss: 0.000, speed: 2.09, accuracy: 80.00 %\n",
            "[ 1180] loss: 0.000, speed: 1.21, accuracy: 65.00 %\n",
            "[ 1190] loss: 0.000, speed: 1.27, accuracy: 37.50 %\n",
            "[ 1200] loss: 0.000, speed: 1.24, accuracy: 67.50 %\n",
            "[ 1210] loss: 0.000, speed: 1.24, accuracy: 80.00 %\n",
            "[ 1220] loss: 0.000, speed: 1.29, accuracy: 77.50 %\n",
            "[ 1230] loss: 0.000, speed: 2.05, accuracy: 72.50 %\n",
            "[ 1240] loss: 0.000, speed: 1.42, accuracy: 95.00 %\n",
            "[ 1250] loss: 0.000, speed: 1.27, accuracy: 40.00 %\n",
            "[ 1260] loss: 0.000, speed: 1.25, accuracy: 47.50 %\n",
            "[ 1270] loss: 0.000, speed: 1.22, accuracy: 62.50 %\n",
            "[ 1280] loss: 0.000, speed: 2.04, accuracy: 82.50 %\n",
            "[ 1290] loss: 0.000, speed: 1.27, accuracy: 50.00 %\n",
            "[ 1300] loss: 0.000, speed: 1.28, accuracy: 70.00 %\n",
            "Finished Training\n"
          ]
        }
      ],
      "source": [
        "train_model(model, optimizer, train_loader, device)"
      ]
    },
    {
      "cell_type": "code",
      "execution_count": 49,
      "metadata": {
        "id": "ogyQJ3TfEO8B"
      },
      "outputs": [],
      "source": [
        "y_pred = []\n",
        "y_true = []\n",
        "\n",
        "def test_model(model, data_loader):\n",
        "    model.eval()\n",
        "\n",
        "    start_time = time.time()\n",
        "    total = 0\n",
        "    correct = 0\n",
        "    with torch.no_grad():\n",
        "        for i, data in enumerate(data_loader):\n",
        "            # get the inputs; data is a list of [inputs, labels]\n",
        "            inputs = data['images']\n",
        "            labels = torch.squeeze(data['labels'])\n",
        "\n",
        "            inputs = inputs.to(device)\n",
        "            labels = labels.to(device)\n",
        "\n",
        "            # zero the parameter gradients\n",
        "            optimizer.zero_grad()\n",
        "\n",
        "            # forward + backward + optimize\n",
        "            outputs = model(inputs.float())\n",
        "\n",
        "            _, predicted = torch.max(outputs.data, 1)\n",
        "            y_pred.extend(predicted.data.cpu().numpy())\n",
        "            y_true.extend(labels)\n",
        "            total += labels.size(0)\n",
        "            correct += (predicted == labels).sum().item()\n",
        "            accuracy = 100 * correct / total\n",
        "            if i % 10 == 0: \n",
        "              print(f\"Current Accuracy: {accuracy}\")\n",
        "\n",
        "        print('Finished Testing')\n",
        "        print('Testing accuracy: %.1f %%' %(accuracy))"
      ]
    },
    {
      "cell_type": "code",
      "execution_count": 50,
      "metadata": {
        "colab": {
          "base_uri": "https://localhost:8080/"
        },
        "id": "JjZ1yANnEU7N",
        "outputId": "11c6ec6c-dfdc-48d3-8f4d-fcf90898ff59"
      },
      "outputs": [
        {
          "output_type": "stream",
          "name": "stdout",
          "text": [
            "Current Accuracy: 100.0\n",
            "Current Accuracy: 88.63636363636364\n",
            "Current Accuracy: 83.33333333333333\n",
            "Current Accuracy: 77.41935483870968\n",
            "Current Accuracy: 76.82926829268293\n",
            "Current Accuracy: 75.0\n",
            "Current Accuracy: 76.63934426229508\n",
            "Current Accuracy: 77.11267605633803\n",
            "Current Accuracy: 73.76543209876543\n",
            "Current Accuracy: 72.8021978021978\n",
            "Current Accuracy: 72.27722772277228\n",
            "Current Accuracy: 70.27027027027027\n",
            "Current Accuracy: 66.11570247933884\n",
            "Current Accuracy: 67.93893129770993\n",
            "Current Accuracy: 68.43971631205673\n",
            "Current Accuracy: 69.20529801324503\n",
            "Finished Testing\n",
            "Testing accuracy: 68.9 %\n"
          ]
        }
      ],
      "source": [
        "test_model(model, test_loader)"
      ]
    },
    {
      "cell_type": "code",
      "source": [
        "from sklearn.metrics import confusion_matrix\n",
        "import seaborn as sn\n",
        "import pandas as pd\n",
        "import matplotlib.pyplot as plt\n",
        "\n",
        "# constant for classes\n",
        "classes = ('Normal', 'Bacterial', 'Viral')\n",
        "\n",
        "# Build confusion matrix\n",
        "cf_matrix = confusion_matrix(y_true, y_pred)\n",
        "df_cm = pd.DataFrame(cf_matrix / np.sum(cf_matrix, axis=1)[:, None], index = [i for i in classes],\n",
        "                     columns = [i for i in classes])\n",
        "plt.figure(figsize = (12,7))\n",
        "sn.heatmap(df_cm, annot=True)\n",
        "plt.savefig('output.png')"
      ],
      "metadata": {
        "colab": {
          "base_uri": "https://localhost:8080/",
          "height": 599
        },
        "id": "0AWl16wBK_ul",
        "outputId": "bc135be0-f14a-4674-bd2a-9e3c5f506bc2"
      },
      "execution_count": 51,
      "outputs": [
        {
          "output_type": "display_data",
          "data": {
            "text/plain": [
              "<Figure size 1200x700 with 2 Axes>"
            ],
            "image/png": "[encoded data removed]"
          },
          "metadata": {}
        }
      ]
    }
  ],
  "metadata": {
    "colab": {
      "provenance": [],
      "include_colab_link": true
    },
    "kernelspec": {
      "display_name": "Python 3",
      "name": "python3"
    },
    "language_info": {
      "name": "python"
    }
  },
  "nbformat": 4,
  "nbformat_minor": 0
}