{
  "cells": [
    {
      "cell_type": "markdown",
      "metadata": {
        "id": "view-in-github",
        "colab_type": "text"
      },
      "source": [
        "<a href=\"https://colab.research.google.com/github/wcjona/BMEN_415_Final_Project/blob/main/Image_Classification/DRL_Epoch1-3.ipynb\" target=\"_parent\"><img src=\"https://colab.research.google.com/assets/colab-badge.svg\" alt=\"Open In Colab\"/></a>"
      ]
    },
    {
      "cell_type": "code",
      "execution_count": null,
      "metadata": {
        "id": "U-bEWYlih0Uw"
      },
      "outputs": [],
      "source": [
        "!pip3 install deeplake;"
      ]
    },
    {
      "cell_type": "code",
      "execution_count": 58,
      "metadata": {
        "id": "GfNiFkmKlq7J"
      },
      "outputs": [],
      "source": [
        "import deeplake\n",
        "from PIL import Image\n",
        "import numpy as np\n",
        "import os, time\n",
        "import torch\n",
        "from torchvision import transforms, models"
      ]
    },
    {
      "cell_type": "code",
      "execution_count": 59,
      "metadata": {
        "colab": {
          "base_uri": "https://localhost:8080/"
        },
        "id": "YV6E4rCHU4-9",
        "outputId": "ff872ca2-513b-4571-a19e-d3117ea77bac"
      },
      "outputs": [
        {
          "output_type": "stream",
          "name": "stderr",
          "text": [
            "/"
          ]
        },
        {
          "output_type": "stream",
          "name": "stdout",
          "text": [
            "This dataset can be visualized in Jupyter Notebook by ds.visualize() or at https://app.activeloop.ai/activeloop/chest-xray-train\n",
            "\n"
          ]
        },
        {
          "output_type": "stream",
          "name": "stderr",
          "text": [
            "|"
          ]
        },
        {
          "output_type": "stream",
          "name": "stdout",
          "text": [
            "hub://activeloop/chest-xray-train loaded successfully.\n",
            "\n"
          ]
        },
        {
          "output_type": "stream",
          "name": "stderr",
          "text": [
            "\\"
          ]
        },
        {
          "output_type": "stream",
          "name": "stdout",
          "text": [
            "This dataset can be visualized in Jupyter Notebook by ds.visualize() or at https://app.activeloop.ai/activeloop/chest-xray-test\n",
            "\n"
          ]
        },
        {
          "output_type": "stream",
          "name": "stderr",
          "text": [
            "|"
          ]
        },
        {
          "output_type": "stream",
          "name": "stdout",
          "text": [
            "hub://activeloop/chest-xray-test loaded successfully.\n",
            "\n"
          ]
        },
        {
          "output_type": "stream",
          "name": "stderr",
          "text": [
            "\r \r\r \r"
          ]
        }
      ],
      "source": [
        "ds_train = deeplake.load('hub://activeloop/chest-xray-train')\n",
        "ds_test = deeplake.load('hub://activeloop/chest-xray-test')\n",
        "# https://datasets.activeloop.ai/docs/ml/datasets/chest-x-ray-image-dataset/"
      ]
    },
    {
      "cell_type": "code",
      "execution_count": 60,
      "metadata": {
        "id": "PeUY7X_MrslR"
      },
      "outputs": [],
      "source": [
        "tform = transforms.Compose([\n",
        "    transforms.ToTensor(),\n",
        "    transforms.Resize((255,255), antialias=True),\n",
        "    transforms.Grayscale(1),\n",
        "])"
      ]
    },
    {
      "cell_type": "code",
      "execution_count": 61,
      "metadata": {
        "id": "XNd7ClhGlYbj"
      },
      "outputs": [],
      "source": [
        "train_loader = ds_train.pytorch(num_workers=0, transform = {'images': tform, 'labels': None}, batch_size=4, shuffle=True, decode_method={\"images\": \"pil\"})\n",
        "test_loader = ds_test.pytorch(num_workers=0,  transform = {'images': tform, 'labels': None}, batch_size=4, shuffle=True, decode_method={\"images\": \"pil\"})"
      ]
    },
    {
      "cell_type": "code",
      "execution_count": 62,
      "metadata": {
        "colab": {
          "base_uri": "https://localhost:8080/"
        },
        "id": "zfqcQKn9oSQR",
        "outputId": "3368f631-fc82-418a-8e14-b9d8169f90be"
      },
      "outputs": [
        {
          "output_type": "stream",
          "name": "stdout",
          "text": [
            "cpu\n"
          ]
        }
      ],
      "source": [
        "device = torch.device('cuda') if torch.cuda.is_available() else torch.device('cpu')\n",
        "print(device)"
      ]
    },
    {
      "cell_type": "code",
      "execution_count": 63,
      "metadata": {
        "id": "mSaWrhQ4nTqY"
      },
      "outputs": [],
      "source": [
        "# Options for models: \n",
        "# https://pytorch.org/vision/stable/models.html\n",
        "# RESNET18: Deep Residual Learning\n",
        "model = models.resnet18(weights=models.ResNet18_Weights.DEFAULT)\n",
        "\n",
        "# Convert model to grayscale\n",
        "model.conv1 = torch.nn.Conv2d(1, 64, kernel_size=7, stride=2, padding=3, bias=False)\n",
        "\n",
        "# Update the fully connected layer based on the number of classes in the dataset\n",
        "model.fc = torch.nn.Linear(model.fc.in_features, len(ds_train.labels.info.class_names))\n",
        "\n",
        "model.to(device)\n",
        "\n",
        "# Specity the loss function and optimizer\n",
        "criterion = torch.nn.CrossEntropyLoss()\n",
        "optimizer = torch.optim.SGD(model.parameters(), lr=0.001, momentum=0.1)"
      ]
    },
    {
      "cell_type": "code",
      "execution_count": 64,
      "metadata": {
        "id": "Uzcfr1eLpSmA"
      },
      "outputs": [],
      "source": [
        "def train_model(model, optimizer, data_loader, device):\n",
        "\n",
        "    model.train()\n",
        "\n",
        "    running_loss = 0.0\n",
        "    total = 0\n",
        "    correct = 0\n",
        "    \n",
        "    for i, data in enumerate(data_loader):\n",
        "        start_time = time.time()\n",
        "        # get the inputs; data is a list of [inputs, labels]\n",
        "        inputs = data['images']\n",
        "        labels = torch.squeeze(data['labels'])\n",
        "\n",
        "        inputs = inputs.to(device)\n",
        "        labels = labels.to(device)\n",
        "\n",
        "        # zero the parameter gradients\n",
        "        optimizer.zero_grad()\n",
        "\n",
        "        # forward + backward + optimize\n",
        "        outputs = model(inputs.float())\n",
        "        loss = criterion(outputs, labels)\n",
        "        loss.backward()\n",
        "        optimizer.step()\n",
        "        \n",
        "        _, predicted = torch.max(outputs.data, 1)\n",
        "        total += labels.size(0)\n",
        "        correct += (predicted == labels).sum().item()\n",
        "        accuracy = 100 * correct / total\n",
        "    \n",
        "        if i % 100 == 0:    # print every 10 batches\n",
        "            batch_time = time.time()\n",
        "            speed = (batch_time-start_time)\n",
        "            print('[%5d] loss: %.3f, speed: %.2f, accuracy: %.2f %%' %\n",
        "                  (i, running_loss, speed, accuracy))\n",
        "\n",
        "            running_loss = 0.0\n",
        "            total = 0\n",
        "            correct = 0\n",
        "    print('Finished Training')"
      ]
    },
    {
      "cell_type": "code",
      "execution_count": 65,
      "metadata": {
        "id": "ogyQJ3TfEO8B"
      },
      "outputs": [],
      "source": [
        "y_pred = []\n",
        "y_true = []\n",
        "\n",
        "def test_model(model, data_loader):\n",
        "    model.eval()\n",
        "\n",
        "    start_time = time.time()\n",
        "    total = 0\n",
        "    correct = 0\n",
        "    with torch.no_grad():\n",
        "        for i, data in enumerate(data_loader):\n",
        "            # get the inputs; data is a list of [inputs, labels]\n",
        "            inputs = data['images']\n",
        "            labels = torch.squeeze(data['labels'])\n",
        "\n",
        "            inputs = inputs.to(device)\n",
        "            labels = labels.to(device)\n",
        "\n",
        "            # zero the parameter gradients\n",
        "            optimizer.zero_grad()\n",
        "\n",
        "            # forward + backward + optimize\n",
        "            outputs = model(inputs.float())\n",
        "\n",
        "            _, predicted = torch.max(outputs.data, 1)\n",
        "            y_pred.extend(predicted.data.cpu().numpy())\n",
        "            y_true.extend(labels)\n",
        "            total += labels.size(0)\n",
        "            correct += (predicted == labels).sum().item()\n",
        "            accuracy = 100 * correct / total\n",
        "            if i % 10 == 0: \n",
        "              print(f\"Current Accuracy: {accuracy}\")\n",
        "\n",
        "        print('Finished Testing')\n",
        "        print('Testing accuracy: %.1f %%' %(accuracy))"
      ]
    },
    {
      "cell_type": "code",
      "execution_count": 66,
      "metadata": {
        "colab": {
          "base_uri": "https://localhost:8080/"
        },
        "id": "WgcFc1J0payl",
        "outputId": "f342c45f-3ab7-4acd-9741-2ecce4d4b8e4"
      },
      "outputs": [
        {
          "output_type": "stream",
          "name": "stdout",
          "text": [
            "[    0] loss: 0.000, speed: 5.01, accuracy: 75.00 %\n",
            "[  100] loss: 0.000, speed: 1.23, accuracy: 56.25 %\n",
            "[  200] loss: 0.000, speed: 2.26, accuracy: 53.50 %\n",
            "[  300] loss: 0.000, speed: 1.51, accuracy: 55.00 %\n",
            "[  400] loss: 0.000, speed: 1.31, accuracy: 53.25 %\n",
            "[  500] loss: 0.000, speed: 1.27, accuracy: 55.75 %\n",
            "[  600] loss: 0.000, speed: 1.28, accuracy: 68.75 %\n",
            "[  700] loss: 0.000, speed: 1.27, accuracy: 64.25 %\n",
            "[  800] loss: 0.000, speed: 1.26, accuracy: 59.00 %\n",
            "[  900] loss: 0.000, speed: 1.27, accuracy: 59.75 %\n",
            "[ 1000] loss: 0.000, speed: 1.23, accuracy: 62.00 %\n",
            "[ 1100] loss: 0.000, speed: 1.30, accuracy: 63.50 %\n",
            "[ 1200] loss: 0.000, speed: 1.71, accuracy: 60.50 %\n",
            "[ 1300] loss: 0.000, speed: 1.27, accuracy: 60.50 %\n",
            "Finished Training\n",
            "Current Accuracy: 50.0\n",
            "Current Accuracy: 54.54545454545455\n",
            "Current Accuracy: 67.85714285714286\n",
            "Current Accuracy: 66.93548387096774\n",
            "Current Accuracy: 60.97560975609756\n",
            "Current Accuracy: 65.19607843137256\n",
            "Current Accuracy: 59.83606557377049\n",
            "Current Accuracy: 55.28169014084507\n",
            "Current Accuracy: 54.01234567901235\n",
            "Current Accuracy: 53.2967032967033\n",
            "Current Accuracy: 55.693069306930695\n",
            "Current Accuracy: 58.78378378378378\n",
            "Current Accuracy: 60.743801652892564\n",
            "Current Accuracy: 62.97709923664122\n",
            "Current Accuracy: 61.52482269503546\n",
            "Current Accuracy: 61.75496688741722\n",
            "Finished Testing\n",
            "Testing accuracy: 62.0 %\n",
            "Finished Training for epoch #0\n",
            "[    0] loss: 0.000, speed: 1.25, accuracy: 25.00 %\n",
            "[  100] loss: 0.000, speed: 1.26, accuracy: 60.75 %\n",
            "[  200] loss: 0.000, speed: 1.24, accuracy: 78.75 %\n",
            "[  300] loss: 0.000, speed: 1.27, accuracy: 68.25 %\n",
            "[  400] loss: 0.000, speed: 1.27, accuracy: 59.50 %\n",
            "[  500] loss: 0.000, speed: 1.26, accuracy: 65.25 %\n",
            "[  600] loss: 0.000, speed: 1.91, accuracy: 69.50 %\n",
            "[  700] loss: 0.000, speed: 1.26, accuracy: 70.00 %\n",
            "[  800] loss: 0.000, speed: 1.29, accuracy: 63.00 %\n",
            "[  900] loss: 0.000, speed: 1.23, accuracy: 70.50 %\n",
            "[ 1000] loss: 0.000, speed: 1.28, accuracy: 65.25 %\n",
            "[ 1100] loss: 0.000, speed: 1.27, accuracy: 57.75 %\n",
            "[ 1200] loss: 0.000, speed: 1.26, accuracy: 75.50 %\n",
            "[ 1300] loss: 0.000, speed: 1.33, accuracy: 61.75 %\n",
            "Finished Training\n",
            "Current Accuracy: 25.0\n",
            "Current Accuracy: 65.9090909090909\n",
            "Current Accuracy: 70.23809523809524\n",
            "Current Accuracy: 68.54838709677419\n",
            "Current Accuracy: 70.1219512195122\n",
            "Current Accuracy: 75.49019607843137\n",
            "Current Accuracy: 74.18032786885246\n",
            "Current Accuracy: 73.2394366197183\n",
            "Current Accuracy: 72.8395061728395\n",
            "Current Accuracy: 75.0\n",
            "Current Accuracy: 75.4950495049505\n",
            "Current Accuracy: 74.32432432432432\n",
            "Current Accuracy: 73.14049586776859\n",
            "Current Accuracy: 72.70992366412214\n",
            "Current Accuracy: 71.09929078014184\n",
            "Current Accuracy: 70.69536423841059\n",
            "Finished Testing\n",
            "Testing accuracy: 71.6 %\n",
            "Finished Training for epoch #1\n",
            "[    0] loss: 0.000, speed: 1.25, accuracy: 100.00 %\n",
            "[  100] loss: 0.000, speed: 1.39, accuracy: 73.50 %\n",
            "[  200] loss: 0.000, speed: 2.20, accuracy: 64.75 %\n",
            "[  300] loss: 0.000, speed: 1.26, accuracy: 68.25 %\n",
            "[  400] loss: 0.000, speed: 1.89, accuracy: 65.25 %\n",
            "[  500] loss: 0.000, speed: 1.26, accuracy: 71.50 %\n",
            "[  600] loss: 0.000, speed: 1.23, accuracy: 62.25 %\n",
            "[  700] loss: 0.000, speed: 1.24, accuracy: 78.50 %\n",
            "[  800] loss: 0.000, speed: 1.23, accuracy: 67.00 %\n",
            "[  900] loss: 0.000, speed: 1.87, accuracy: 65.75 %\n",
            "[ 1000] loss: 0.000, speed: 1.99, accuracy: 68.75 %\n",
            "[ 1100] loss: 0.000, speed: 1.25, accuracy: 65.75 %\n",
            "[ 1200] loss: 0.000, speed: 1.25, accuracy: 74.75 %\n",
            "[ 1300] loss: 0.000, speed: 2.01, accuracy: 67.75 %\n",
            "Finished Training\n",
            "Current Accuracy: 100.0\n",
            "Current Accuracy: 86.36363636363636\n",
            "Current Accuracy: 83.33333333333333\n",
            "Current Accuracy: 88.70967741935483\n",
            "Current Accuracy: 87.1951219512195\n",
            "Current Accuracy: 83.33333333333333\n",
            "Current Accuracy: 83.60655737704919\n",
            "Current Accuracy: 82.3943661971831\n",
            "Current Accuracy: 78.70370370370371\n",
            "Current Accuracy: 79.3956043956044\n",
            "Current Accuracy: 77.97029702970298\n",
            "Current Accuracy: 77.70270270270271\n",
            "Current Accuracy: 77.89256198347107\n",
            "Current Accuracy: 79.00763358778626\n",
            "Current Accuracy: 78.90070921985816\n",
            "Current Accuracy: 79.30463576158941\n",
            "Finished Testing\n",
            "Testing accuracy: 79.3 %\n",
            "Finished Training for epoch #2\n"
          ]
        }
      ],
      "source": [
        "epoch = 3\n",
        "for i in range(epoch):\n",
        "  train_model(model, optimizer, train_loader, device)\n",
        "  test_model(model, test_loader)\n",
        "  print(f'Finished Training for epoch #{i}')"
      ]
    },
    {
      "cell_type": "code",
      "source": [
        "from sklearn.metrics import confusion_matrix\n",
        "import seaborn as sn\n",
        "import pandas as pd\n",
        "import matplotlib.pyplot as plt\n",
        "\n",
        "# constant for classes\n",
        "classes = ('Normal', 'Bacterial', 'Viral')\n",
        "\n",
        "# Build confusion matrix\n",
        "cf_matrix = confusion_matrix(y_true, y_pred)\n",
        "df_cm = pd.DataFrame(cf_matrix / np.sum(cf_matrix, axis=1)[:, None], index = [i for i in classes],\n",
        "                     columns = [i for i in classes])\n",
        "plt.figure(figsize = (12,7))\n",
        "sn.heatmap(df_cm, annot=True)\n",
        "plt.savefig('output.png')"
      ],
      "metadata": {
        "colab": {
          "base_uri": "https://localhost:8080/",
          "height": 599
        },
        "id": "0AWl16wBK_ul",
        "outputId": "1e1e1a48-e510-485c-85dc-84eb92aad5a9"
      },
      "execution_count": 67,
      "outputs": [
        {
          "output_type": "display_data",
          "data": {
            "text/plain": [
              "<Figure size 1200x700 with 2 Axes>"
            ],
            "image/png": "[encoded data removed]"
          },
          "metadata": {}
        }
      ]
    }
  ],
  "metadata": {
    "colab": {
      "provenance": [],
      "include_colab_link": true
    },
    "kernelspec": {
      "display_name": "Python 3",
      "name": "python3"
    },
    "language_info": {
      "name": "python"
    }
  },
  "nbformat": 4,
  "nbformat_minor": 0
}